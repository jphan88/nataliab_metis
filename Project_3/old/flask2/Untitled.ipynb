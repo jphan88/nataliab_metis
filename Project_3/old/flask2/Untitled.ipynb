{
 "cells": [
  {
   "cell_type": "code",
   "execution_count": 1,
   "metadata": {
    "collapsed": true
   },
   "outputs": [],
   "source": [
    "from sklearn.linear_model import LogisticRegression\n",
    "from sklearn.model_selection import train_test_split\n",
    "from sklearn.ensemble import RandomForestClassifier\n",
    "import numpy as np\n",
    "import pandas as pd\n",
    "\n",
    "\n",
    "students = pd.read_csv(\"df_students.csv\")\n",
    "students.columns=['G1', 'G2', 'G3', 'school_MS', 'sex_M', 'address_U', 'famsize_LE3',\n",
    "       'Pstatus_T', 'schoolsup_yes', 'famsup_yes', 'paid_yes',\n",
    "       'activities_yes', 'nursery_yes', 'higher_yes', 'internet_yes',\n",
    "       'romantic_yes', 'age', 'Medu', 'Fedu', 'traveltime', 'studytime',\n",
    "       'famrel', 'freetime', 'goout', 'Dalc', 'Walc', 'health', 'absences',\n",
    "       'failures', 'Mjob_health', 'Mjob_other', 'Mjob_services',\n",
    "       'Mjob_teacher', 'Fjob_health', 'Fjob_other', 'Fjob_services',\n",
    "       'Fjob_teacher', 'reason_home', 'reason_other', 'reason_reputation',\n",
    "       'guardian_mother', 'guardian_other']\n",
    "\n",
    "\n",
    "#X = students[['famsup_yes','higher_yes','absences']]\n",
    "X = students[['famsup_yes','higher_yes', 'romantic_yes']]\n",
    "y = students['G3']\n",
    "\n",
    "#PREDICTOR = LogisticRegression().fit(X,y)\n",
    "PREDICTOR = RandomForestClassifier(max_depth=15, n_estimators=18).fit(X,y)\n"
   ]
  },
  {
   "cell_type": "code",
   "execution_count": 2,
   "metadata": {},
   "outputs": [
    {
     "data": {
      "text/plain": [
       "pandas.core.frame.DataFrame"
      ]
     },
     "execution_count": 2,
     "metadata": {},
     "output_type": "execute_result"
    }
   ],
   "source": [
    "X_test = pd.DataFrame\n",
    "\n",
    "X_test.columns = ['family_support', 'higher_education', 'romantic_relationship']\n",
    "X_test"
   ]
  },
  {
   "cell_type": "code",
   "execution_count": 17,
   "metadata": {
    "collapsed": true
   },
   "outputs": [],
   "source": [
    "family_support_list = [0]\n",
    "higher_education_list = [0]\n",
    "romantic_relationship = [1]"
   ]
  },
  {
   "cell_type": "code",
   "execution_count": 3,
   "metadata": {
    "collapsed": true
   },
   "outputs": [],
   "source": [
    "X_test = pd.DataFrame({'family_support': [0], 'higher_education': [0], 'romantic_relationship': [1]})"
   ]
  },
  {
   "cell_type": "code",
   "execution_count": 5,
   "metadata": {},
   "outputs": [],
   "source": [
    "score = PREDICTOR.predict_proba(X_test)\n",
    "prediction = PREDICTOR.predict(X_test)"
   ]
  },
  {
   "cell_type": "code",
   "execution_count": 6,
   "metadata": {},
   "outputs": [
    {
     "data": {
      "text/plain": [
       "array([[ 0.46392655,  0.53607345]])"
      ]
     },
     "execution_count": 6,
     "metadata": {},
     "output_type": "execute_result"
    }
   ],
   "source": [
    "score"
   ]
  },
  {
   "cell_type": "code",
   "execution_count": 7,
   "metadata": {},
   "outputs": [
    {
     "data": {
      "text/plain": [
       "array([ 1.])"
      ]
     },
     "execution_count": 7,
     "metadata": {},
     "output_type": "execute_result"
    }
   ],
   "source": [
    "prediction"
   ]
  },
  {
   "cell_type": "code",
   "execution_count": null,
   "metadata": {
    "collapsed": true
   },
   "outputs": [],
   "source": []
  },
  {
   "cell_type": "code",
   "execution_count": 32,
   "metadata": {},
   "outputs": [],
   "source": [
    "def pred(family_support, higher_education, romantic_relationship):\n",
    "\n",
    "\n",
    "    \"\"\"  When A POST request with json data is made to this uri,\n",
    "        Read the example from the json, predict probability and\n",
    "        send it with a response\n",
    "    \"\"\"\n",
    "\n",
    "\n",
    "    #X_text = pd.Dataframe({'family_support': [family_support], 'higher_education': [higher_education], 'romantic_relationship': [romantic_relationship]})\n",
    "\n",
    "    X_text = pd.DataFrame({'family_support': [family_support], 'higher_education': [higher_education], 'romantic_relationship': [romantic_relationship]})\n",
    "\n",
    "    score = PREDICTOR.predict_proba(X_test)\n",
    "    prediction = PREDICTOR.predict(X_test)\n",
    "    # Put the result in a nice dict so we can send it as json\n",
    "    #results = {\"score\": score[0,1]}\n",
    "    #return flask.jsonify(results) \n",
    "    #results = prediction\n",
    "    return prediction[0]\n"
   ]
  },
  {
   "cell_type": "code",
   "execution_count": 33,
   "metadata": {},
   "outputs": [
    {
     "data": {
      "text/plain": [
       "1.0"
      ]
     },
     "execution_count": 33,
     "metadata": {},
     "output_type": "execute_result"
    }
   ],
   "source": [
    "pred(0,0,1)"
   ]
  },
  {
   "cell_type": "code",
   "execution_count": null,
   "metadata": {
    "collapsed": true
   },
   "outputs": [],
   "source": []
  }
 ],
 "metadata": {
  "kernelspec": {
   "display_name": "Python 3",
   "language": "python",
   "name": "python3"
  },
  "language_info": {
   "codemirror_mode": {
    "name": "ipython",
    "version": 3
   },
   "file_extension": ".py",
   "mimetype": "text/x-python",
   "name": "python",
   "nbconvert_exporter": "python",
   "pygments_lexer": "ipython3",
   "version": "3.6.2"
  }
 },
 "nbformat": 4,
 "nbformat_minor": 2
}
