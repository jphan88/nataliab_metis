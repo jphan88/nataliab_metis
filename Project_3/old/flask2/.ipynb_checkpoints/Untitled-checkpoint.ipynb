{
 "cells": [
  {
   "cell_type": "code",
   "execution_count": 1,
   "metadata": {},
   "outputs": [
    {
     "ename": "NameError",
     "evalue": "name 'RandomForestClassifier' is not defined",
     "output_type": "error",
     "traceback": [
      "\u001b[0;31m---------------------------------------------------------------------------\u001b[0m",
      "\u001b[0;31mNameError\u001b[0m                                 Traceback (most recent call last)",
      "\u001b[0;32m<ipython-input-1-dd7146e280ef>\u001b[0m in \u001b[0;36m<module>\u001b[0;34m()\u001b[0m\n\u001b[1;32m     22\u001b[0m \u001b[0;34m\u001b[0m\u001b[0m\n\u001b[1;32m     23\u001b[0m \u001b[0;31m#PREDICTOR = LogisticRegression().fit(X,y)\u001b[0m\u001b[0;34m\u001b[0m\u001b[0;34m\u001b[0m\u001b[0m\n\u001b[0;32m---> 24\u001b[0;31m \u001b[0mPREDICTOR\u001b[0m \u001b[0;34m=\u001b[0m \u001b[0mRandomForestClassifier\u001b[0m\u001b[0;34m(\u001b[0m\u001b[0mmax_depth\u001b[0m\u001b[0;34m=\u001b[0m\u001b[0;36m15\u001b[0m\u001b[0;34m,\u001b[0m \u001b[0mn_estimators\u001b[0m\u001b[0;34m=\u001b[0m\u001b[0;36m18\u001b[0m\u001b[0;34m)\u001b[0m\u001b[0;34m.\u001b[0m\u001b[0mfit\u001b[0m\u001b[0;34m(\u001b[0m\u001b[0mX\u001b[0m\u001b[0;34m,\u001b[0m\u001b[0my\u001b[0m\u001b[0;34m)\u001b[0m\u001b[0;34m\u001b[0m\u001b[0m\n\u001b[0m",
      "\u001b[0;31mNameError\u001b[0m: name 'RandomForestClassifier' is not defined"
     ]
    }
   ],
   "source": [
    "from sklearn.linear_model import LogisticRegression\n",
    "from sklearn.model_selection import train_test_split\n",
    "from sklearn.ensemble import RandomForestClassifier\n",
    "import numpy as np\n",
    "import pandas as pd\n",
    "\n",
    "\n",
    "students = pd.read_csv(\"df_students.csv\")\n",
    "students.columns=['G1', 'G2', 'G3', 'school_MS', 'sex_M', 'address_U', 'famsize_LE3',\n",
    "       'Pstatus_T', 'schoolsup_yes', 'famsup_yes', 'paid_yes',\n",
    "       'activities_yes', 'nursery_yes', 'higher_yes', 'internet_yes',\n",
    "       'romantic_yes', 'age', 'Medu', 'Fedu', 'traveltime', 'studytime',\n",
    "       'famrel', 'freetime', 'goout', 'Dalc', 'Walc', 'health', 'absences',\n",
    "       'failures', 'Mjob_health', 'Mjob_other', 'Mjob_services',\n",
    "       'Mjob_teacher', 'Fjob_health', 'Fjob_other', 'Fjob_services',\n",
    "       'Fjob_teacher', 'reason_home', 'reason_other', 'reason_reputation',\n",
    "       'guardian_mother', 'guardian_other']\n",
    "\n",
    "\n",
    "#X = students[['famsup_yes','higher_yes','absences']]\n",
    "X = students[['famsup_yes','higher_yes', 'romantic_yes']]\n",
    "y = students['G3']\n",
    "\n",
    "#PREDICTOR = LogisticRegression().fit(X,y)\n",
    "PREDICTOR = RandomForestClassifier(max_depth=15, n_estimators=18).fit(X,y)\n"
   ]
  },
  {
   "cell_type": "code",
   "execution_count": null,
   "metadata": {},
   "outputs": [],
   "source": [
    "def pred():\n",
    "    result=request.form\n",
    "    family_support = result['family_support']\n",
    "    higher_education = result['higher_education']\n",
    "    romantic_relationship = result['romantic_relationship']\n",
    "    #absences = result['absences']\n",
    "\n",
    "\n",
    "    \"\"\"  When A POST request with json data is made to this uri,\n",
    "         Read the example from the json, predict probability and\n",
    "         send it with a response\n",
    "    \"\"\"\n",
    "    # Get decision score for our example that came with the request\n",
    "    #data = flask.request.json\n",
    "    #print (data)\n",
    "    #x = np.matrix(data[\"example\"])\n",
    "    #print (x)\n",
    "\n",
    "    X_test = pd.DataFrame\n",
    "\n",
    "    X_test['family_support'] = result['family_support']\n",
    "    X_test['higher_education'] = result['higher_education']\n",
    "    X_test['romantic_relationship'] = result['romantic_relationship']\n",
    "\n",
    "    score = PREDICTOR.predict_proba(X_test)\n",
    "    prediction = PREDICTOR.predict(X_test)\n",
    "    # Put the result in a nice dict so we can send it as json\n",
    "    #results = {\"score\": score[0,1]}\n",
    "    #return flask.jsonify(results) \n",
    "    #results = {\"pred\": list(score[:,1])}\n",
    "    #results = prediction\n",
    "    #results = {\"pred\": prediction}\n",
    "    return render_template('result.html',prediction=prediction)"
   ]
  },
  {
   "cell_type": "code",
   "execution_count": null,
   "metadata": {
    "collapsed": true
   },
   "outputs": [],
   "source": []
  }
 ],
 "metadata": {
  "kernelspec": {
   "display_name": "Python 3",
   "language": "python",
   "name": "python3"
  },
  "language_info": {
   "codemirror_mode": {
    "name": "ipython",
    "version": 3
   },
   "file_extension": ".py",
   "mimetype": "text/x-python",
   "name": "python",
   "nbconvert_exporter": "python",
   "pygments_lexer": "ipython3",
   "version": "3.6.2"
  }
 },
 "nbformat": 4,
 "nbformat_minor": 2
}
