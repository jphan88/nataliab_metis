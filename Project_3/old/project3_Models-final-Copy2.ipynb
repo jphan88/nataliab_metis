{
 "cells": [
  {
   "cell_type": "code",
   "execution_count": 4,
   "metadata": {},
   "outputs": [
    {
     "name": "stderr",
     "output_type": "stream",
     "text": [
      "/Users/nataliabernardo/anaconda3/lib/python3.6/site-packages/sklearn/cross_validation.py:41: DeprecationWarning: This module was deprecated in version 0.18 in favor of the model_selection module into which all the refactored classes and functions are moved. Also note that the interface of the new CV iterators are different from that of this module. This module will be removed in 0.20.\n",
      "  \"This module will be removed in 0.20.\", DeprecationWarning)\n"
     ]
    }
   ],
   "source": [
    "from sqlalchemy import create_engine\n",
    "import pandas as pd\n",
    "import numpy as np\n",
    "import seaborn as sns\n",
    "import matplotlib.pyplot as plt\n",
    "import csv\n",
    "from sklearn import preprocessing\n",
    "from sklearn.model_selection import train_test_split\n",
    "from sklearn.model_selection import GridSearchCV\n",
    "import tabpy_client\n",
    "from sklearn.cross_validation import cross_val_score, cross_val_predict, StratifiedKFold\n",
    "\n",
    "#classifiers\n",
    "from sklearn.linear_model import LogisticRegression\n",
    "from sklearn.linear_model import LogisticRegressionCV\n",
    "from sklearn.neighbors import KNeighborsClassifier\n",
    "from sklearn.tree import DecisionTreeClassifier\n",
    "from sklearn.ensemble import RandomForestClassifier\n",
    "from sklearn.svm import SVC\n",
    "from sklearn.naive_bayes import GaussianNB\n",
    "from sklearn.ensemble import GradientBoostingClassifier\n",
    "from xgboost import XGBClassifier\n",
    "\n",
    "#metrics\n",
    "from sklearn import metrics\n",
    "from sklearn.metrics import roc_curve\n",
    "from sklearn.metrics import classification_report\n",
    "from sklearn.metrics import confusion_matrix\n",
    "from sklearn.metrics import roc_auc_score\n",
    "from sklearn.metrics import precision_score\n",
    "from sklearn.metrics import accuracy_score\n",
    "from sklearn.metrics import f1_score\n",
    "from sklearn.metrics import recall_score\n",
    "from sklearn.metrics import auc\n",
    "\n",
    "\n",
    "%matplotlib inline"
   ]
  },
  {
   "cell_type": "code",
   "execution_count": 5,
   "metadata": {},
   "outputs": [
    {
     "data": {
      "text/html": [
       "<div>\n",
       "<style>\n",
       "    .dataframe thead tr:only-child th {\n",
       "        text-align: right;\n",
       "    }\n",
       "\n",
       "    .dataframe thead th {\n",
       "        text-align: left;\n",
       "    }\n",
       "\n",
       "    .dataframe tbody tr th {\n",
       "        vertical-align: top;\n",
       "    }\n",
       "</style>\n",
       "<table border=\"1\" class=\"dataframe\">\n",
       "  <thead>\n",
       "    <tr style=\"text-align: right;\">\n",
       "      <th></th>\n",
       "      <th>G1</th>\n",
       "      <th>G2</th>\n",
       "      <th>G3</th>\n",
       "      <th>school_MS</th>\n",
       "      <th>sex_M</th>\n",
       "      <th>address_U</th>\n",
       "      <th>famsize_LE3</th>\n",
       "      <th>Pstatus_T</th>\n",
       "      <th>schoolsup_yes</th>\n",
       "      <th>famsup_yes</th>\n",
       "      <th>...</th>\n",
       "      <th>Mjob_teacher</th>\n",
       "      <th>Fjob_health</th>\n",
       "      <th>Fjob_other</th>\n",
       "      <th>Fjob_services</th>\n",
       "      <th>Fjob_teacher</th>\n",
       "      <th>reason_home</th>\n",
       "      <th>reason_other</th>\n",
       "      <th>reason_reputation</th>\n",
       "      <th>guardian_mother</th>\n",
       "      <th>guardian_other</th>\n",
       "    </tr>\n",
       "  </thead>\n",
       "  <tbody>\n",
       "    <tr>\n",
       "      <th>0</th>\n",
       "      <td>1</td>\n",
       "      <td>0</td>\n",
       "      <td>0</td>\n",
       "      <td>0</td>\n",
       "      <td>0</td>\n",
       "      <td>1</td>\n",
       "      <td>0</td>\n",
       "      <td>0</td>\n",
       "      <td>1</td>\n",
       "      <td>0</td>\n",
       "      <td>...</td>\n",
       "      <td>0</td>\n",
       "      <td>0</td>\n",
       "      <td>0</td>\n",
       "      <td>0</td>\n",
       "      <td>1</td>\n",
       "      <td>0</td>\n",
       "      <td>0</td>\n",
       "      <td>0</td>\n",
       "      <td>1</td>\n",
       "      <td>0</td>\n",
       "    </tr>\n",
       "    <tr>\n",
       "      <th>1</th>\n",
       "      <td>1</td>\n",
       "      <td>0</td>\n",
       "      <td>0</td>\n",
       "      <td>0</td>\n",
       "      <td>0</td>\n",
       "      <td>1</td>\n",
       "      <td>0</td>\n",
       "      <td>1</td>\n",
       "      <td>0</td>\n",
       "      <td>1</td>\n",
       "      <td>...</td>\n",
       "      <td>0</td>\n",
       "      <td>0</td>\n",
       "      <td>1</td>\n",
       "      <td>0</td>\n",
       "      <td>0</td>\n",
       "      <td>0</td>\n",
       "      <td>0</td>\n",
       "      <td>0</td>\n",
       "      <td>0</td>\n",
       "      <td>0</td>\n",
       "    </tr>\n",
       "    <tr>\n",
       "      <th>2</th>\n",
       "      <td>0</td>\n",
       "      <td>0</td>\n",
       "      <td>0</td>\n",
       "      <td>0</td>\n",
       "      <td>0</td>\n",
       "      <td>1</td>\n",
       "      <td>1</td>\n",
       "      <td>1</td>\n",
       "      <td>1</td>\n",
       "      <td>0</td>\n",
       "      <td>...</td>\n",
       "      <td>0</td>\n",
       "      <td>0</td>\n",
       "      <td>1</td>\n",
       "      <td>0</td>\n",
       "      <td>0</td>\n",
       "      <td>0</td>\n",
       "      <td>1</td>\n",
       "      <td>0</td>\n",
       "      <td>1</td>\n",
       "      <td>0</td>\n",
       "    </tr>\n",
       "    <tr>\n",
       "      <th>3</th>\n",
       "      <td>0</td>\n",
       "      <td>0</td>\n",
       "      <td>0</td>\n",
       "      <td>0</td>\n",
       "      <td>0</td>\n",
       "      <td>1</td>\n",
       "      <td>0</td>\n",
       "      <td>1</td>\n",
       "      <td>0</td>\n",
       "      <td>1</td>\n",
       "      <td>...</td>\n",
       "      <td>0</td>\n",
       "      <td>0</td>\n",
       "      <td>0</td>\n",
       "      <td>1</td>\n",
       "      <td>0</td>\n",
       "      <td>1</td>\n",
       "      <td>0</td>\n",
       "      <td>0</td>\n",
       "      <td>1</td>\n",
       "      <td>0</td>\n",
       "    </tr>\n",
       "    <tr>\n",
       "      <th>4</th>\n",
       "      <td>0</td>\n",
       "      <td>0</td>\n",
       "      <td>0</td>\n",
       "      <td>0</td>\n",
       "      <td>0</td>\n",
       "      <td>1</td>\n",
       "      <td>0</td>\n",
       "      <td>1</td>\n",
       "      <td>0</td>\n",
       "      <td>1</td>\n",
       "      <td>...</td>\n",
       "      <td>0</td>\n",
       "      <td>0</td>\n",
       "      <td>1</td>\n",
       "      <td>0</td>\n",
       "      <td>0</td>\n",
       "      <td>1</td>\n",
       "      <td>0</td>\n",
       "      <td>0</td>\n",
       "      <td>0</td>\n",
       "      <td>0</td>\n",
       "    </tr>\n",
       "  </tbody>\n",
       "</table>\n",
       "<p>5 rows × 42 columns</p>\n",
       "</div>"
      ],
      "text/plain": [
       "   G1  G2  G3  school_MS  sex_M  address_U  famsize_LE3  Pstatus_T  \\\n",
       "0   1   0   0          0      0          1            0          0   \n",
       "1   1   0   0          0      0          1            0          1   \n",
       "2   0   0   0          0      0          1            1          1   \n",
       "3   0   0   0          0      0          1            0          1   \n",
       "4   0   0   0          0      0          1            0          1   \n",
       "\n",
       "   schoolsup_yes  famsup_yes       ...        Mjob_teacher  Fjob_health  \\\n",
       "0              1           0       ...                   0            0   \n",
       "1              0           1       ...                   0            0   \n",
       "2              1           0       ...                   0            0   \n",
       "3              0           1       ...                   0            0   \n",
       "4              0           1       ...                   0            0   \n",
       "\n",
       "   Fjob_other  Fjob_services  Fjob_teacher  reason_home  reason_other  \\\n",
       "0           0              0             1            0             0   \n",
       "1           1              0             0            0             0   \n",
       "2           1              0             0            0             1   \n",
       "3           0              1             0            1             0   \n",
       "4           1              0             0            1             0   \n",
       "\n",
       "   reason_reputation  guardian_mother  guardian_other  \n",
       "0                  0                1               0  \n",
       "1                  0                0               0  \n",
       "2                  0                1               0  \n",
       "3                  0                1               0  \n",
       "4                  0                0               0  \n",
       "\n",
       "[5 rows x 42 columns]"
      ]
     },
     "execution_count": 5,
     "metadata": {},
     "output_type": "execute_result"
    }
   ],
   "source": [
    "df = pd.read_csv('df_students.csv')\n",
    "df.head()"
   ]
  },
  {
   "cell_type": "code",
   "execution_count": 6,
   "metadata": {},
   "outputs": [
    {
     "data": {
      "text/plain": [
       "Index(['G1', 'G2', 'G3', 'school_MS', 'sex_M', 'address_U', 'famsize_LE3',\n",
       "       'Pstatus_T', 'schoolsup_yes', 'famsup_yes', 'paid_yes',\n",
       "       'activities_yes', 'nursery_yes', 'higher_yes', 'internet_yes',\n",
       "       'romantic_yes', 'age', 'Medu', 'Fedu', 'traveltime', 'studytime',\n",
       "       'famrel', 'freetime', 'goout', 'Dalc', 'Walc', 'health', 'absences',\n",
       "       'failures', 'Mjob_health', 'Mjob_other', 'Mjob_services',\n",
       "       'Mjob_teacher', 'Fjob_health', 'Fjob_other', 'Fjob_services',\n",
       "       'Fjob_teacher', 'reason_home', 'reason_other', 'reason_reputation',\n",
       "       'guardian_mother', 'guardian_other'],\n",
       "      dtype='object')"
      ]
     },
     "execution_count": 6,
     "metadata": {},
     "output_type": "execute_result"
    }
   ],
   "source": [
    "df.columns"
   ]
  },
  {
   "cell_type": "markdown",
   "metadata": {},
   "source": [
    "## Train Test Split"
   ]
  },
  {
   "cell_type": "code",
   "execution_count": 99,
   "metadata": {
    "collapsed": true
   },
   "outputs": [],
   "source": [
    "X = df.drop(['G1','G2','G3'], axis = 1)\n",
    "y = df['G1']"
   ]
  },
  {
   "cell_type": "code",
   "execution_count": 100,
   "metadata": {
    "collapsed": true
   },
   "outputs": [],
   "source": [
    "X_train, X_test, y_train, y_test = train_test_split(X, y, test_size=0.33, random_state=42)"
   ]
  },
  {
   "cell_type": "markdown",
   "metadata": {},
   "source": [
    "#### with normalization"
   ]
  },
  {
   "cell_type": "code",
   "execution_count": 9,
   "metadata": {
    "collapsed": true
   },
   "outputs": [],
   "source": [
    "normalizer = preprocessing.Normalizer()\n",
    "X_norm = normalizer.fit_transform(X)"
   ]
  },
  {
   "cell_type": "code",
   "execution_count": 10,
   "metadata": {
    "collapsed": true
   },
   "outputs": [],
   "source": [
    "X_train_norm, X_test_norm, y_train, y_test = train_test_split(X_norm, y, test_size=0.33, random_state=42)"
   ]
  },
  {
   "cell_type": "code",
   "execution_count": 11,
   "metadata": {},
   "outputs": [
    {
     "name": "stderr",
     "output_type": "stream",
     "text": [
      "/Users/nataliabernardo/anaconda3/lib/python3.6/site-packages/statsmodels/compat/pandas.py:56: FutureWarning: The pandas.core.datetools module is deprecated and will be removed in a future version. Please use the pandas.tseries module instead.\n",
      "  from pandas.core import datetools\n"
     ]
    },
    {
     "data": {
      "text/html": [
       "<table class=\"simpletable\">\n",
       "<caption>Generalized Linear Model Regression Results</caption>\n",
       "<tr>\n",
       "  <th>Dep. Variable:</th>         <td>G1</td>        <th>  No. Observations:  </th>       <td>   434</td>       \n",
       "</tr>\n",
       "<tr>\n",
       "  <th>Model:</th>                 <td>GLM</td>       <th>  Df Residuals:      </th>       <td>   395</td>       \n",
       "</tr>\n",
       "<tr>\n",
       "  <th>Model Family:</th>       <td>Gaussian</td>     <th>  Df Model:          </th>       <td>    38</td>       \n",
       "</tr>\n",
       "<tr>\n",
       "  <th>Link Function:</th>      <td>identity</td>     <th>  Scale:             </th> <td>0.12009841307068914</td>\n",
       "</tr>\n",
       "<tr>\n",
       "  <th>Method:</th>               <td>IRLS</td>       <th>  Log-Likelihood:    </th>      <td> -135.47</td>      \n",
       "</tr>\n",
       "<tr>\n",
       "  <th>Date:</th>           <td>Mon, 19 Feb 2018</td> <th>  Deviance:          </th>      <td>  47.439</td>      \n",
       "</tr>\n",
       "<tr>\n",
       "  <th>Time:</th>               <td>21:22:58</td>     <th>  Pearson chi2:      </th>       <td>  47.4</td>       \n",
       "</tr>\n",
       "<tr>\n",
       "  <th>No. Iterations:</th>         <td>2</td>        <th>                     </th>          <td> </td>         \n",
       "</tr>\n",
       "</table>\n",
       "<table class=\"simpletable\">\n",
       "<tr>\n",
       "          <td></td>             <th>coef</th>     <th>std err</th>      <th>z</th>      <th>P>|z|</th>  <th>[0.025</th>    <th>0.975]</th>  \n",
       "</tr>\n",
       "<tr>\n",
       "  <th>school_MS</th>         <td>    0.1880</td> <td>    0.043</td> <td>    4.413</td> <td> 0.000</td> <td>    0.105</td> <td>    0.272</td>\n",
       "</tr>\n",
       "<tr>\n",
       "  <th>sex_M</th>             <td>    0.0389</td> <td>    0.040</td> <td>    0.966</td> <td> 0.334</td> <td>   -0.040</td> <td>    0.118</td>\n",
       "</tr>\n",
       "<tr>\n",
       "  <th>address_U</th>         <td>   -0.0216</td> <td>    0.042</td> <td>   -0.518</td> <td> 0.605</td> <td>   -0.103</td> <td>    0.060</td>\n",
       "</tr>\n",
       "<tr>\n",
       "  <th>famsize_LE3</th>       <td>   -0.0135</td> <td>    0.040</td> <td>   -0.341</td> <td> 0.733</td> <td>   -0.091</td> <td>    0.064</td>\n",
       "</tr>\n",
       "<tr>\n",
       "  <th>Pstatus_T</th>         <td>    0.0417</td> <td>    0.057</td> <td>    0.736</td> <td> 0.462</td> <td>   -0.069</td> <td>    0.153</td>\n",
       "</tr>\n",
       "<tr>\n",
       "  <th>schoolsup_yes</th>     <td>    0.2400</td> <td>    0.057</td> <td>    4.219</td> <td> 0.000</td> <td>    0.129</td> <td>    0.352</td>\n",
       "</tr>\n",
       "<tr>\n",
       "  <th>famsup_yes</th>        <td>    0.0031</td> <td>    0.036</td> <td>    0.085</td> <td> 0.932</td> <td>   -0.068</td> <td>    0.074</td>\n",
       "</tr>\n",
       "<tr>\n",
       "  <th>paid_yes</th>          <td>    0.0767</td> <td>    0.075</td> <td>    1.024</td> <td> 0.306</td> <td>   -0.070</td> <td>    0.223</td>\n",
       "</tr>\n",
       "<tr>\n",
       "  <th>activities_yes</th>    <td>   -0.0339</td> <td>    0.036</td> <td>   -0.955</td> <td> 0.340</td> <td>   -0.103</td> <td>    0.036</td>\n",
       "</tr>\n",
       "<tr>\n",
       "  <th>nursery_yes</th>       <td>   -0.0115</td> <td>    0.043</td> <td>   -0.267</td> <td> 0.789</td> <td>   -0.096</td> <td>    0.073</td>\n",
       "</tr>\n",
       "<tr>\n",
       "  <th>higher_yes</th>        <td>   -0.4078</td> <td>    0.058</td> <td>   -7.011</td> <td> 0.000</td> <td>   -0.522</td> <td>   -0.294</td>\n",
       "</tr>\n",
       "<tr>\n",
       "  <th>internet_yes</th>      <td>    0.0263</td> <td>    0.044</td> <td>    0.602</td> <td> 0.547</td> <td>   -0.059</td> <td>    0.112</td>\n",
       "</tr>\n",
       "<tr>\n",
       "  <th>romantic_yes</th>      <td>   -0.0034</td> <td>    0.037</td> <td>   -0.091</td> <td> 0.927</td> <td>   -0.076</td> <td>    0.069</td>\n",
       "</tr>\n",
       "<tr>\n",
       "  <th>age</th>               <td>    0.0229</td> <td>    0.009</td> <td>    2.532</td> <td> 0.011</td> <td>    0.005</td> <td>    0.041</td>\n",
       "</tr>\n",
       "<tr>\n",
       "  <th>Medu</th>              <td>    0.0204</td> <td>    0.025</td> <td>    0.820</td> <td> 0.412</td> <td>   -0.028</td> <td>    0.069</td>\n",
       "</tr>\n",
       "<tr>\n",
       "  <th>Fedu</th>              <td>   -0.0191</td> <td>    0.023</td> <td>   -0.828</td> <td> 0.408</td> <td>   -0.064</td> <td>    0.026</td>\n",
       "</tr>\n",
       "<tr>\n",
       "  <th>traveltime</th>        <td>   -0.0009</td> <td>    0.025</td> <td>   -0.035</td> <td> 0.972</td> <td>   -0.049</td> <td>    0.047</td>\n",
       "</tr>\n",
       "<tr>\n",
       "  <th>studytime</th>         <td>   -0.0435</td> <td>    0.022</td> <td>   -1.948</td> <td> 0.051</td> <td>   -0.087</td> <td>    0.000</td>\n",
       "</tr>\n",
       "<tr>\n",
       "  <th>famrel</th>            <td>   -0.0208</td> <td>    0.019</td> <td>   -1.120</td> <td> 0.263</td> <td>   -0.057</td> <td>    0.016</td>\n",
       "</tr>\n",
       "<tr>\n",
       "  <th>freetime</th>          <td>    0.0122</td> <td>    0.017</td> <td>    0.700</td> <td> 0.484</td> <td>   -0.022</td> <td>    0.046</td>\n",
       "</tr>\n",
       "<tr>\n",
       "  <th>goout</th>             <td>   -0.0143</td> <td>    0.017</td> <td>   -0.828</td> <td> 0.408</td> <td>   -0.048</td> <td>    0.020</td>\n",
       "</tr>\n",
       "<tr>\n",
       "  <th>Dalc</th>              <td>    0.0317</td> <td>    0.024</td> <td>    1.347</td> <td> 0.178</td> <td>   -0.014</td> <td>    0.078</td>\n",
       "</tr>\n",
       "<tr>\n",
       "  <th>Walc</th>              <td>   -0.0042</td> <td>    0.019</td> <td>   -0.226</td> <td> 0.822</td> <td>   -0.041</td> <td>    0.033</td>\n",
       "</tr>\n",
       "<tr>\n",
       "  <th>health</th>            <td>    0.0043</td> <td>    0.013</td> <td>    0.345</td> <td> 0.730</td> <td>   -0.020</td> <td>    0.029</td>\n",
       "</tr>\n",
       "<tr>\n",
       "  <th>absences</th>          <td>    0.0090</td> <td>    0.004</td> <td>    2.234</td> <td> 0.025</td> <td>    0.001</td> <td>    0.017</td>\n",
       "</tr>\n",
       "<tr>\n",
       "  <th>failures</th>          <td>    0.2195</td> <td>    0.033</td> <td>    6.743</td> <td> 0.000</td> <td>    0.156</td> <td>    0.283</td>\n",
       "</tr>\n",
       "<tr>\n",
       "  <th>Mjob_health</th>       <td>    0.0129</td> <td>    0.086</td> <td>    0.151</td> <td> 0.880</td> <td>   -0.155</td> <td>    0.181</td>\n",
       "</tr>\n",
       "<tr>\n",
       "  <th>Mjob_other</th>        <td>   -0.0217</td> <td>    0.048</td> <td>   -0.455</td> <td> 0.649</td> <td>   -0.115</td> <td>    0.072</td>\n",
       "</tr>\n",
       "<tr>\n",
       "  <th>Mjob_services</th>     <td>   -0.1068</td> <td>    0.060</td> <td>   -1.775</td> <td> 0.076</td> <td>   -0.225</td> <td>    0.011</td>\n",
       "</tr>\n",
       "<tr>\n",
       "  <th>Mjob_teacher</th>      <td>   -0.0464</td> <td>    0.083</td> <td>   -0.559</td> <td> 0.576</td> <td>   -0.209</td> <td>    0.116</td>\n",
       "</tr>\n",
       "<tr>\n",
       "  <th>Fjob_health</th>       <td>    0.1465</td> <td>    0.127</td> <td>    1.152</td> <td> 0.250</td> <td>   -0.103</td> <td>    0.396</td>\n",
       "</tr>\n",
       "<tr>\n",
       "  <th>Fjob_other</th>        <td>    0.0885</td> <td>    0.071</td> <td>    1.246</td> <td> 0.213</td> <td>   -0.051</td> <td>    0.228</td>\n",
       "</tr>\n",
       "<tr>\n",
       "  <th>Fjob_services</th>     <td>    0.1143</td> <td>    0.075</td> <td>    1.525</td> <td> 0.127</td> <td>   -0.033</td> <td>    0.261</td>\n",
       "</tr>\n",
       "<tr>\n",
       "  <th>Fjob_teacher</th>      <td>    0.1272</td> <td>    0.120</td> <td>    1.064</td> <td> 0.287</td> <td>   -0.107</td> <td>    0.361</td>\n",
       "</tr>\n",
       "<tr>\n",
       "  <th>reason_home</th>       <td>   -0.0277</td> <td>    0.046</td> <td>   -0.605</td> <td> 0.545</td> <td>   -0.117</td> <td>    0.062</td>\n",
       "</tr>\n",
       "<tr>\n",
       "  <th>reason_other</th>      <td>   -0.0253</td> <td>    0.062</td> <td>   -0.410</td> <td> 0.682</td> <td>   -0.146</td> <td>    0.096</td>\n",
       "</tr>\n",
       "<tr>\n",
       "  <th>reason_reputation</th> <td>    0.0326</td> <td>    0.048</td> <td>    0.678</td> <td> 0.498</td> <td>   -0.062</td> <td>    0.127</td>\n",
       "</tr>\n",
       "<tr>\n",
       "  <th>guardian_mother</th>   <td>    0.0995</td> <td>    0.044</td> <td>    2.279</td> <td> 0.023</td> <td>    0.014</td> <td>    0.185</td>\n",
       "</tr>\n",
       "<tr>\n",
       "  <th>guardian_other</th>    <td>   -0.0126</td> <td>    0.083</td> <td>   -0.151</td> <td> 0.880</td> <td>   -0.176</td> <td>    0.151</td>\n",
       "</tr>\n",
       "</table>"
      ],
      "text/plain": [
       "<class 'statsmodels.iolib.summary.Summary'>\n",
       "\"\"\"\n",
       "                  Generalized Linear Model Regression Results                  \n",
       "===============================================================================\n",
       "Dep. Variable:                     G1   No. Observations:                   434\n",
       "Model:                            GLM   Df Residuals:                       395\n",
       "Model Family:                Gaussian   Df Model:                            38\n",
       "Link Function:               identity   Scale:              0.12009841307068914\n",
       "Method:                          IRLS   Log-Likelihood:                 -135.47\n",
       "Date:                Mon, 19 Feb 2018   Deviance:                        47.439\n",
       "Time:                        21:22:58   Pearson chi2:                      47.4\n",
       "No. Iterations:                     2                                          \n",
       "=====================================================================================\n",
       "                        coef    std err          z      P>|z|      [0.025      0.975]\n",
       "-------------------------------------------------------------------------------------\n",
       "school_MS             0.1880      0.043      4.413      0.000       0.105       0.272\n",
       "sex_M                 0.0389      0.040      0.966      0.334      -0.040       0.118\n",
       "address_U            -0.0216      0.042     -0.518      0.605      -0.103       0.060\n",
       "famsize_LE3          -0.0135      0.040     -0.341      0.733      -0.091       0.064\n",
       "Pstatus_T             0.0417      0.057      0.736      0.462      -0.069       0.153\n",
       "schoolsup_yes         0.2400      0.057      4.219      0.000       0.129       0.352\n",
       "famsup_yes            0.0031      0.036      0.085      0.932      -0.068       0.074\n",
       "paid_yes              0.0767      0.075      1.024      0.306      -0.070       0.223\n",
       "activities_yes       -0.0339      0.036     -0.955      0.340      -0.103       0.036\n",
       "nursery_yes          -0.0115      0.043     -0.267      0.789      -0.096       0.073\n",
       "higher_yes           -0.4078      0.058     -7.011      0.000      -0.522      -0.294\n",
       "internet_yes          0.0263      0.044      0.602      0.547      -0.059       0.112\n",
       "romantic_yes         -0.0034      0.037     -0.091      0.927      -0.076       0.069\n",
       "age                   0.0229      0.009      2.532      0.011       0.005       0.041\n",
       "Medu                  0.0204      0.025      0.820      0.412      -0.028       0.069\n",
       "Fedu                 -0.0191      0.023     -0.828      0.408      -0.064       0.026\n",
       "traveltime           -0.0009      0.025     -0.035      0.972      -0.049       0.047\n",
       "studytime            -0.0435      0.022     -1.948      0.051      -0.087       0.000\n",
       "famrel               -0.0208      0.019     -1.120      0.263      -0.057       0.016\n",
       "freetime              0.0122      0.017      0.700      0.484      -0.022       0.046\n",
       "goout                -0.0143      0.017     -0.828      0.408      -0.048       0.020\n",
       "Dalc                  0.0317      0.024      1.347      0.178      -0.014       0.078\n",
       "Walc                 -0.0042      0.019     -0.226      0.822      -0.041       0.033\n",
       "health                0.0043      0.013      0.345      0.730      -0.020       0.029\n",
       "absences              0.0090      0.004      2.234      0.025       0.001       0.017\n",
       "failures              0.2195      0.033      6.743      0.000       0.156       0.283\n",
       "Mjob_health           0.0129      0.086      0.151      0.880      -0.155       0.181\n",
       "Mjob_other           -0.0217      0.048     -0.455      0.649      -0.115       0.072\n",
       "Mjob_services        -0.1068      0.060     -1.775      0.076      -0.225       0.011\n",
       "Mjob_teacher         -0.0464      0.083     -0.559      0.576      -0.209       0.116\n",
       "Fjob_health           0.1465      0.127      1.152      0.250      -0.103       0.396\n",
       "Fjob_other            0.0885      0.071      1.246      0.213      -0.051       0.228\n",
       "Fjob_services         0.1143      0.075      1.525      0.127      -0.033       0.261\n",
       "Fjob_teacher          0.1272      0.120      1.064      0.287      -0.107       0.361\n",
       "reason_home          -0.0277      0.046     -0.605      0.545      -0.117       0.062\n",
       "reason_other         -0.0253      0.062     -0.410      0.682      -0.146       0.096\n",
       "reason_reputation     0.0326      0.048      0.678      0.498      -0.062       0.127\n",
       "guardian_mother       0.0995      0.044      2.279      0.023       0.014       0.185\n",
       "guardian_other       -0.0126      0.083     -0.151      0.880      -0.176       0.151\n",
       "=====================================================================================\n",
       "\"\"\""
      ]
     },
     "execution_count": 11,
     "metadata": {},
     "output_type": "execute_result"
    }
   ],
   "source": [
    "import statsmodels.api as sm\n",
    "x = sm.add_constant(X_train, prepend = False)\n",
    "model = sm.GLM(y_train, X_train)\n",
    "model = model.fit()\n",
    "model.summary()"
   ]
  },
  {
   "cell_type": "code",
   "execution_count": 12,
   "metadata": {
    "collapsed": true
   },
   "outputs": [],
   "source": [
    "import itertools\n",
    "\n",
    "def plot_confusion_matrix(cm, classes,\n",
    "                          normalize=False,\n",
    "                          title='Confusion matrix',\n",
    "                          cmap=plt.cm.Blues):\n",
    "    \"\"\"\n",
    "    This function prints and plots the confusion matrix.\n",
    "    Normalization can be applied by setting `normalize=True`.\n",
    "    \"\"\"\n",
    "    #if normalize:\n",
    "    #    cm = cm.astype('float') / cm.sum(axis=1)[:, np.newaxis]\n",
    "    #    print(\"Normalized confusion matrix\")\n",
    "    #else:\n",
    "    #    print('Confusion matrix, without normalization')\n",
    "\n",
    "    #print(cm)\n",
    "\n",
    "    plt.imshow(cm, interpolation='nearest', cmap=cmap)\n",
    "    plt.title(title)\n",
    "    plt.colorbar()\n",
    "    tick_marks = np.arange(len(classes))\n",
    "    plt.xticks(tick_marks, classes, rotation=45)\n",
    "    plt.yticks(tick_marks, classes)\n",
    "\n",
    "    fmt = '.2f' if normalize else 'd'\n",
    "    thresh = cm.max() / 2.\n",
    "    for i, j in itertools.product(range(cm.shape[0]), range(cm.shape[1])):\n",
    "        plt.text(j, i, format(cm[i, j], fmt),\n",
    "                 horizontalalignment=\"center\",\n",
    "                 color=\"white\" if cm[i, j] > thresh else \"black\")\n",
    "\n",
    "    plt.tight_layout()\n",
    "    plt.ylabel('True label')\n",
    "    plt.xlabel('Predicted label')"
   ]
  },
  {
   "cell_type": "markdown",
   "metadata": {
    "collapsed": true
   },
   "source": [
    "## Logistic Regression with Regularization"
   ]
  },
  {
   "cell_type": "code",
   "execution_count": 24,
   "metadata": {},
   "outputs": [],
   "source": [
    "Cs = np.logspace(-4., 4., 30)\n",
    "logCV = LogisticRegressionCV(Cs=Cs,scoring='roc_auc', cv = 10)"
   ]
  },
  {
   "cell_type": "code",
   "execution_count": 25,
   "metadata": {},
   "outputs": [
    {
     "data": {
      "text/plain": [
       "LogisticRegressionCV(Cs=array([1.00000e-04, 1.88739e-04, 3.56225e-04, 6.72336e-04, 1.26896e-03,\n",
       "       2.39503e-03, 4.52035e-03, 8.53168e-03, 1.61026e-02, 3.03920e-02,\n",
       "       5.73615e-02, 1.08264e-01, 2.04336e-01, 3.85662e-01, 7.27895e-01,\n",
       "       1.37382e+00, 2.59294e+00, 4.89390e+00, 9.23671e+00, 1.74333e+01,\n",
       "       3.29034e+01, 6.21017e+01, 1.17210e+02, 2.21222e+02, 4.17532e+02,\n",
       "       7.88046e+02, 1.48735e+03, 2.80722e+03, 5.29832e+03, 1.00000e+04]),\n",
       "           class_weight=None, cv=10, dual=False, fit_intercept=True,\n",
       "           intercept_scaling=1.0, max_iter=100, multi_class='ovr',\n",
       "           n_jobs=1, penalty='l2', random_state=None, refit=True,\n",
       "           scoring='roc_auc', solver='lbfgs', tol=0.0001, verbose=0)"
      ]
     },
     "execution_count": 25,
     "metadata": {},
     "output_type": "execute_result"
    }
   ],
   "source": [
    "logCV.fit(X_train,y_train)"
   ]
  },
  {
   "cell_type": "code",
   "execution_count": 26,
   "metadata": {},
   "outputs": [
    {
     "data": {
      "text/plain": [
       "array([0.72789538])"
      ]
     },
     "execution_count": 26,
     "metadata": {},
     "output_type": "execute_result"
    }
   ],
   "source": [
    "y_pred_logCV = logCV.predict(X_test)\n",
    "\n",
    "#best score\n",
    "logCV.C_"
   ]
  },
  {
   "cell_type": "code",
   "execution_count": 27,
   "metadata": {},
   "outputs": [
    {
     "data": {
      "image/png": "[encoded data removed]",
      "text/plain": [
       "<matplotlib.figure.Figure at 0x1169b26a0>"
      ]
     },
     "metadata": {},
     "output_type": "display_data"
    }
   ],
   "source": [
    "plot_confusion_matrix(confusion_matrix(y_test,y_pred_logCV), ['pass', 'fail'])"
   ]
  },
  {
   "cell_type": "markdown",
   "metadata": {},
   "source": [
    "## Random Forest GridsearchCV"
   ]
  },
  {
   "cell_type": "code",
   "execution_count": 28,
   "metadata": {},
   "outputs": [
    {
     "name": "stdout",
     "output_type": "stream",
     "text": [
      "{'max_depth': 10, 'n_estimators': 27}\n"
     ]
    }
   ],
   "source": [
    "rfc = RandomForestClassifier() \n",
    " \n",
    "# Use a grid over parameters of interest\n",
    "param_grid = { \n",
    "           \"n_estimators\" : [9, 18, 27, 36, 45, 54, 63, 100, 150],\n",
    "           \"max_depth\" : [1, 5, 10, 15, 20, 25, 30],}\n",
    " \n",
    "CV_rfc = GridSearchCV(estimator=rfc, param_grid=param_grid, cv= 10)\n",
    "CV_rfc.fit(X_train, y_train)\n",
    "print (CV_rfc.best_params_)"
   ]
  },
  {
   "cell_type": "markdown",
   "metadata": {},
   "source": [
    "best parameters = 'max_depth': 15, 'n_estimators': 18"
   ]
  },
  {
   "cell_type": "markdown",
   "metadata": {},
   "source": [
    "## Gradient Boosting"
   ]
  },
  {
   "cell_type": "code",
   "execution_count": null,
   "metadata": {
    "collapsed": true
   },
   "outputs": [],
   "source": [
    "gb = GradientBoostingClassifier(random_state=1,n_estimators =100)"
   ]
  },
  {
   "cell_type": "code",
   "execution_count": null,
   "metadata": {
    "collapsed": true
   },
   "outputs": [],
   "source": [
    "param_grid = {'max_depth': range(5,15), 'min_samples_split': range(5,10,1), 'learning_rate': [ 0.01, 0.1, 0.2, 0.3]}\n",
    " \n",
    "grid = GridSearchCV(gb, param_grid, cv=10,scoring= 'roc_auc')\n",
    "grid.fit(X_train,y_train)"
   ]
  },
  {
   "cell_type": "code",
   "execution_count": null,
   "metadata": {
    "collapsed": true
   },
   "outputs": [],
   "source": [
    "print (grid.best_params_)"
   ]
  },
  {
   "cell_type": "markdown",
   "metadata": {},
   "source": [
    "best parameters = 'learning_rate': 0.01, 'max_depth': 5, 'min_samples_split': 9"
   ]
  },
  {
   "cell_type": "code",
   "execution_count": null,
   "metadata": {
    "collapsed": true
   },
   "outputs": [],
   "source": [
    "gb_grid = GradientBoostingClassifier(learning_rate = 0.01, max_depth = 5, min_samples_split = 9)\n",
    "gb_grid.fit(X_train, y_train)"
   ]
  },
  {
   "cell_type": "markdown",
   "metadata": {},
   "source": [
    "## Naive Bayes"
   ]
  },
  {
   "cell_type": "code",
   "execution_count": null,
   "metadata": {
    "collapsed": true
   },
   "outputs": [],
   "source": [
    "gnb = GaussianNB()\n",
    "gnb.fit(X_train, y_train)\n",
    "y_pred_gnb = gnb.predict(X_test)"
   ]
  },
  {
   "cell_type": "code",
   "execution_count": 26,
   "metadata": {},
   "outputs": [
    {
     "data": {
      "image/png": "[encoded data removed]",
      "text/plain": [
       "<matplotlib.figure.Figure at 0x115969198>"
      ]
     },
     "metadata": {},
     "output_type": "display_data"
    }
   ],
   "source": [
    "plot_confusion_matrix(confusion_matrix(y_test,y_pred_gnb), ['pass', 'fail'])"
   ]
  },
  {
   "cell_type": "code",
   "execution_count": 107,
   "metadata": {},
   "outputs": [
    {
     "data": {
      "text/html": [
       "<div>\n",
       "<style>\n",
       "    .dataframe thead tr:only-child th {\n",
       "        text-align: right;\n",
       "    }\n",
       "\n",
       "    .dataframe thead th {\n",
       "        text-align: left;\n",
       "    }\n",
       "\n",
       "    .dataframe tbody tr th {\n",
       "        vertical-align: top;\n",
       "    }\n",
       "</style>\n",
       "<table border=\"1\" class=\"dataframe\">\n",
       "  <thead>\n",
       "    <tr style=\"text-align: right;\">\n",
       "      <th></th>\n",
       "      <th>f1</th>\n",
       "      <th>precision</th>\n",
       "      <th>recall-fail</th>\n",
       "    </tr>\n",
       "  </thead>\n",
       "  <tbody>\n",
       "    <tr>\n",
       "      <th>0.1</th>\n",
       "      <td>0.463768</td>\n",
       "      <td>0.303797</td>\n",
       "      <td>0.979592</td>\n",
       "    </tr>\n",
       "    <tr>\n",
       "      <th>0.2</th>\n",
       "      <td>0.523490</td>\n",
       "      <td>0.390000</td>\n",
       "      <td>0.795918</td>\n",
       "    </tr>\n",
       "    <tr>\n",
       "      <th>0.3</th>\n",
       "      <td>0.587156</td>\n",
       "      <td>0.533333</td>\n",
       "      <td>0.653061</td>\n",
       "    </tr>\n",
       "    <tr>\n",
       "      <th>0.4</th>\n",
       "      <td>0.543478</td>\n",
       "      <td>0.581395</td>\n",
       "      <td>0.510204</td>\n",
       "    </tr>\n",
       "    <tr>\n",
       "      <th>0.5</th>\n",
       "      <td>0.469136</td>\n",
       "      <td>0.593750</td>\n",
       "      <td>0.387755</td>\n",
       "    </tr>\n",
       "    <tr>\n",
       "      <th>0.6</th>\n",
       "      <td>0.388060</td>\n",
       "      <td>0.722222</td>\n",
       "      <td>0.265306</td>\n",
       "    </tr>\n",
       "    <tr>\n",
       "      <th>0.7</th>\n",
       "      <td>0.185185</td>\n",
       "      <td>1.000000</td>\n",
       "      <td>0.102041</td>\n",
       "    </tr>\n",
       "    <tr>\n",
       "      <th>0.8</th>\n",
       "      <td>0.040000</td>\n",
       "      <td>1.000000</td>\n",
       "      <td>0.020408</td>\n",
       "    </tr>\n",
       "  </tbody>\n",
       "</table>\n",
       "</div>"
      ],
      "text/plain": [
       "           f1  precision  recall-fail\n",
       "0.1  0.463768   0.303797     0.979592\n",
       "0.2  0.523490   0.390000     0.795918\n",
       "0.3  0.587156   0.533333     0.653061\n",
       "0.4  0.543478   0.581395     0.510204\n",
       "0.5  0.469136   0.593750     0.387755\n",
       "0.6  0.388060   0.722222     0.265306\n",
       "0.7  0.185185   1.000000     0.102041\n",
       "0.8  0.040000   1.000000     0.020408"
      ]
     },
     "execution_count": 107,
     "metadata": {},
     "output_type": "execute_result"
    }
   ],
   "source": [
    "threshold = [0.1,0.2,0.3,0.4,0.5,0.6,0.7,0.8]\n",
    "rf2 = RandomForestClassifier(max_depth=15, n_estimators=18, random_state = 30)\n",
    "rf2.fit(X_train, y_train)\n",
    "f1_score_list = []\n",
    "precision_list = []\n",
    "recall_fail_list = []\n",
    "\n",
    "for i in threshold:\n",
    "    y_pred_prob = rf2.predict_proba(X_test)[:,1]\n",
    "    y_pred = rf2.predict(X_test)\n",
    "    y_pred_cutoff = np.where(y_pred_prob >= i, 1, 0)\n",
    "    \n",
    "    f1_score_list.append(f1_score(y_test, y_pred_cutoff))\n",
    "    precision_list.append(precision_score(y_test, y_pred_cutoff))\n",
    "    recall_fail_list.append(recall_score(y_test, y_pred_cutoff, pos_label=1))\n",
    "    \n",
    "threshold_comparison = pd.DataFrame({'precision':precision_list, 'recall-fail':recall_fail_list, 'f1':f1_score_list})\n",
    "    \n",
    "threshold_comparison.set_index([threshold])\n",
    "\n"
   ]
  },
  {
   "cell_type": "code",
   "execution_count": 108,
   "metadata": {},
   "outputs": [
    {
     "data": {
      "text/plain": [
       "[<matplotlib.lines.Line2D at 0x1c21ea6b70>]"
      ]
     },
     "execution_count": 108,
     "metadata": {},
     "output_type": "execute_result"
    },
    {
     "data": {
      "image/png": "[encoded data removed]",
      "text/plain": [
       "<matplotlib.figure.Figure at 0x1c21bd9c50>"
      ]
     },
     "metadata": {},
     "output_type": "display_data"
    }
   ],
   "source": [
    "plt.plot(threshold_comparison['recall-fail'][0],threshold_comparison['precision'][0])"
   ]
  },
  {
   "cell_type": "code",
   "execution_count": 109,
   "metadata": {},
   "outputs": [
    {
     "data": {
      "text/html": [
       "<div>\n",
       "<style>\n",
       "    .dataframe thead tr:only-child th {\n",
       "        text-align: right;\n",
       "    }\n",
       "\n",
       "    .dataframe thead th {\n",
       "        text-align: left;\n",
       "    }\n",
       "\n",
       "    .dataframe tbody tr th {\n",
       "        vertical-align: top;\n",
       "    }\n",
       "</style>\n",
       "<table border=\"1\" class=\"dataframe\">\n",
       "  <thead>\n",
       "    <tr style=\"text-align: right;\">\n",
       "      <th></th>\n",
       "      <th>1-fpr</th>\n",
       "      <th>fpr</th>\n",
       "      <th>tf</th>\n",
       "      <th>thresholds</th>\n",
       "      <th>tpr</th>\n",
       "    </tr>\n",
       "  </thead>\n",
       "  <tbody>\n",
       "    <tr>\n",
       "      <th>0</th>\n",
       "      <td>1.000000</td>\n",
       "      <td>0.000000</td>\n",
       "      <td>-0.979592</td>\n",
       "      <td>0.833333</td>\n",
       "      <td>0.020408</td>\n",
       "    </tr>\n",
       "    <tr>\n",
       "      <th>1</th>\n",
       "      <td>1.000000</td>\n",
       "      <td>0.000000</td>\n",
       "      <td>-0.897959</td>\n",
       "      <td>0.777778</td>\n",
       "      <td>0.102041</td>\n",
       "    </tr>\n",
       "    <tr>\n",
       "      <th>2</th>\n",
       "      <td>0.987952</td>\n",
       "      <td>0.012048</td>\n",
       "      <td>-0.804278</td>\n",
       "      <td>0.666667</td>\n",
       "      <td>0.183673</td>\n",
       "    </tr>\n",
       "    <tr>\n",
       "      <th>3</th>\n",
       "      <td>0.969880</td>\n",
       "      <td>0.030120</td>\n",
       "      <td>-0.704573</td>\n",
       "      <td>0.611111</td>\n",
       "      <td>0.265306</td>\n",
       "    </tr>\n",
       "    <tr>\n",
       "      <th>4</th>\n",
       "      <td>0.933735</td>\n",
       "      <td>0.066265</td>\n",
       "      <td>-0.607204</td>\n",
       "      <td>0.555556</td>\n",
       "      <td>0.326531</td>\n",
       "    </tr>\n",
       "    <tr>\n",
       "      <th>5</th>\n",
       "      <td>0.921687</td>\n",
       "      <td>0.078313</td>\n",
       "      <td>-0.533932</td>\n",
       "      <td>0.500000</td>\n",
       "      <td>0.387755</td>\n",
       "    </tr>\n",
       "    <tr>\n",
       "      <th>6</th>\n",
       "      <td>0.891566</td>\n",
       "      <td>0.108434</td>\n",
       "      <td>-0.381362</td>\n",
       "      <td>0.444444</td>\n",
       "      <td>0.510204</td>\n",
       "    </tr>\n",
       "    <tr>\n",
       "      <th>7</th>\n",
       "      <td>0.867470</td>\n",
       "      <td>0.132530</td>\n",
       "      <td>-0.275633</td>\n",
       "      <td>0.388889</td>\n",
       "      <td>0.591837</td>\n",
       "    </tr>\n",
       "    <tr>\n",
       "      <th>8</th>\n",
       "      <td>0.831325</td>\n",
       "      <td>0.168675</td>\n",
       "      <td>-0.178264</td>\n",
       "      <td>0.333333</td>\n",
       "      <td>0.653061</td>\n",
       "    </tr>\n",
       "    <tr>\n",
       "      <th>9</th>\n",
       "      <td>0.753012</td>\n",
       "      <td>0.246988</td>\n",
       "      <td>-0.059134</td>\n",
       "      <td>0.277778</td>\n",
       "      <td>0.693878</td>\n",
       "    </tr>\n",
       "    <tr>\n",
       "      <th>10</th>\n",
       "      <td>0.632530</td>\n",
       "      <td>0.367470</td>\n",
       "      <td>0.163388</td>\n",
       "      <td>0.222222</td>\n",
       "      <td>0.795918</td>\n",
       "    </tr>\n",
       "    <tr>\n",
       "      <th>11</th>\n",
       "      <td>0.524096</td>\n",
       "      <td>0.475904</td>\n",
       "      <td>0.373863</td>\n",
       "      <td>0.166667</td>\n",
       "      <td>0.897959</td>\n",
       "    </tr>\n",
       "    <tr>\n",
       "      <th>12</th>\n",
       "      <td>0.337349</td>\n",
       "      <td>0.662651</td>\n",
       "      <td>0.642242</td>\n",
       "      <td>0.111111</td>\n",
       "      <td>0.979592</td>\n",
       "    </tr>\n",
       "    <tr>\n",
       "      <th>13</th>\n",
       "      <td>0.144578</td>\n",
       "      <td>0.855422</td>\n",
       "      <td>0.835014</td>\n",
       "      <td>0.055556</td>\n",
       "      <td>0.979592</td>\n",
       "    </tr>\n",
       "    <tr>\n",
       "      <th>14</th>\n",
       "      <td>0.000000</td>\n",
       "      <td>1.000000</td>\n",
       "      <td>1.000000</td>\n",
       "      <td>0.000000</td>\n",
       "      <td>1.000000</td>\n",
       "    </tr>\n",
       "  </tbody>\n",
       "</table>\n",
       "</div>"
      ],
      "text/plain": [
       "       1-fpr       fpr        tf  thresholds       tpr\n",
       "0   1.000000  0.000000 -0.979592    0.833333  0.020408\n",
       "1   1.000000  0.000000 -0.897959    0.777778  0.102041\n",
       "2   0.987952  0.012048 -0.804278    0.666667  0.183673\n",
       "3   0.969880  0.030120 -0.704573    0.611111  0.265306\n",
       "4   0.933735  0.066265 -0.607204    0.555556  0.326531\n",
       "5   0.921687  0.078313 -0.533932    0.500000  0.387755\n",
       "6   0.891566  0.108434 -0.381362    0.444444  0.510204\n",
       "7   0.867470  0.132530 -0.275633    0.388889  0.591837\n",
       "8   0.831325  0.168675 -0.178264    0.333333  0.653061\n",
       "9   0.753012  0.246988 -0.059134    0.277778  0.693878\n",
       "10  0.632530  0.367470  0.163388    0.222222  0.795918\n",
       "11  0.524096  0.475904  0.373863    0.166667  0.897959\n",
       "12  0.337349  0.662651  0.642242    0.111111  0.979592\n",
       "13  0.144578  0.855422  0.835014    0.055556  0.979592\n",
       "14  0.000000  1.000000  1.000000    0.000000  1.000000"
      ]
     },
     "execution_count": 109,
     "metadata": {},
     "output_type": "execute_result"
    }
   ],
   "source": [
    "y_pred_prob = rf2.predict_proba(X_test)[:,1]\n",
    "y_pred = rf2.predict(X_test)\n",
    "\n",
    "fpr, tpr, thresholds = metrics.roc_curve(y_test, y_pred_prob)\n",
    "i = np.arange(len(tpr)) # index for df\n",
    "\n",
    "sensitivity = []\n",
    "\n",
    "\n",
    "roc"
   ]
  },
  {
   "cell_type": "code",
   "execution_count": 103,
   "metadata": {},
   "outputs": [
    {
     "name": "stdout",
     "output_type": "stream",
     "text": [
      "Area under the ROC curve : 0.742009\n"
     ]
    },
    {
     "name": "stderr",
     "output_type": "stream",
     "text": [
      "/Users/nataliabernardo/anaconda3/lib/python3.6/site-packages/ipykernel_launcher.py:12: DeprecationWarning: \n",
      ".ix is deprecated. Please use\n",
      ".loc for label based indexing or\n",
      ".iloc for positional indexing\n",
      "\n",
      "See the documentation here:\n",
      "http://pandas.pydata.org/pandas-docs/stable/indexing.html#ix-indexer-is-deprecated\n",
      "  if sys.path[0] == '':\n"
     ]
    },
    {
     "data": {
      "image/png": "[encoded data removed]",
      "text/plain": [
       "<matplotlib.figure.Figure at 0x1c21e49588>"
      ]
     },
     "metadata": {},
     "output_type": "display_data"
    }
   ],
   "source": [
    "# extract false positive, true positive rate\n",
    "\n",
    "\n",
    "fpr, tpr, thresholds = metrics.roc_curve(y_test, y_pred_prob)\n",
    "roc_auc = metrics.auc(fpr, tpr)\n",
    "print(\"Area under the ROC curve : %f\" % roc_auc)\n",
    "\n",
    "i = np.arange(len(tpr)) # index for df\n",
    "roc = pd.DataFrame({'fpr' : pd.Series(fpr, index=i),'tpr' : pd.Series(tpr, index = i), \n",
    "                    '1-fpr' : pd.Series(1-fpr, index = i), 'tf' : pd.Series(tpr - (1-fpr), index = i), \n",
    "                    'thresholds' : pd.Series(thresholds, index = i)})\n",
    "roc.ix[(roc.tf-0).abs().argsort()[:1]]\n",
    "\n",
    "# Plot tpr vs 1-fpr\n",
    "fig, ax = plt.subplots()\n",
    "plt.plot(roc['tpr'], label='tpr')\n",
    "plt.plot(roc['1-fpr'], color = 'red', label='1-fpr')\n",
    "plt.legend(loc='best')\n",
    "plt.xlabel('1-False Positive Rate')\n",
    "plt.ylabel('True Positive Rate')\n",
    "plt.title('Receiver operating characteristic')\n",
    "plt.show()"
   ]
  },
  {
   "cell_type": "code",
   "execution_count": 87,
   "metadata": {},
   "outputs": [
    {
     "data": {
      "image/png": "[encoded data removed]",
      "text/plain": [
       "<matplotlib.figure.Figure at 0x1c21e315f8>"
      ]
     },
     "metadata": {},
     "output_type": "display_data"
    }
   ],
   "source": [
    "plt.figure(figsize=(6,3))\n",
    "for i in range(len(threshold)):\n",
    "    plt.plot(threshold_comparison['precision'][i], threshold_comparison['recall-fail'][i], label = threshold[i] )"
   ]
  },
  {
   "cell_type": "code",
   "execution_count": 55,
   "metadata": {},
   "outputs": [
    {
     "data": {
      "text/plain": [
       "array([0.22222222, 0.        , 0.27777778, 0.16666667, 0.11111111,\n",
       "       0.11111111, 0.05555556, 0.88888889, 0.16666667, 0.        ,\n",
       "       0.11111111, 0.27777778, 0.05555556, 0.05555556, 0.16666667,\n",
       "       0.05555556, 0.11111111, 0.55555556, 0.16666667, 0.        ,\n",
       "       0.        , 0.11111111, 0.16666667, 0.11111111, 0.5       ,\n",
       "       0.16666667, 0.83333333, 0.05555556, 0.        , 0.16666667,\n",
       "       0.27777778, 0.22222222, 0.72222222, 0.55555556, 0.27777778,\n",
       "       0.05555556, 0.05555556, 0.22222222, 0.05555556, 0.27777778,\n",
       "       0.27777778, 0.        , 0.05555556, 0.05555556, 0.16666667,\n",
       "       0.33333333, 0.11111111, 0.        , 0.05555556, 0.22222222,\n",
       "       0.44444444, 0.        , 0.22222222, 0.66666667, 0.05555556,\n",
       "       0.        , 0.33333333, 0.11111111, 0.66666667, 0.77777778,\n",
       "       0.72222222, 0.11111111, 0.        , 0.11111111, 0.05555556,\n",
       "       0.        , 0.77777778, 0.5       , 0.83333333, 0.38888889,\n",
       "       0.11111111, 0.11111111, 0.11111111, 0.22222222, 0.11111111,\n",
       "       0.16666667, 0.        , 0.11111111, 0.05555556, 0.22222222,\n",
       "       0.61111111, 0.22222222, 0.05555556, 0.16666667, 0.5       ,\n",
       "       0.22222222, 0.        , 0.16666667, 0.        , 0.05555556,\n",
       "       0.05555556, 0.61111111, 0.11111111, 0.11111111, 0.88888889,\n",
       "       0.05555556, 0.5       , 0.11111111, 0.11111111, 0.05555556,\n",
       "       0.16666667, 0.16666667, 0.        , 0.5       , 0.11111111,\n",
       "       0.55555556, 0.16666667, 0.        , 0.33333333, 0.05555556,\n",
       "       0.        , 0.22222222, 0.05555556, 0.16666667, 0.77777778,\n",
       "       0.16666667, 0.22222222, 0.05555556, 0.33333333, 0.33333333,\n",
       "       0.11111111, 0.33333333, 0.27777778, 0.11111111, 0.05555556,\n",
       "       0.27777778, 0.05555556, 0.38888889, 0.05555556, 0.55555556,\n",
       "       0.05555556, 0.16666667, 0.11111111, 0.38888889, 0.5       ,\n",
       "       0.72222222, 0.55555556, 0.5       , 0.5       , 0.        ,\n",
       "       0.11111111, 0.05555556, 0.11111111, 0.16666667, 0.22222222,\n",
       "       0.11111111, 0.        , 0.        , 0.11111111, 0.16666667,\n",
       "       0.16666667, 0.27777778, 0.33333333, 0.22222222, 0.38888889,\n",
       "       0.22222222, 0.11111111, 0.11111111, 0.55555556, 0.        ,\n",
       "       0.44444444, 0.11111111, 0.27777778, 0.        , 0.16666667,\n",
       "       0.        , 0.27777778, 0.61111111, 0.5       , 0.38888889,\n",
       "       0.22222222, 0.05555556, 0.22222222, 0.11111111, 0.77777778,\n",
       "       0.05555556, 0.05555556, 0.16666667, 0.72222222, 0.        ,\n",
       "       0.05555556, 0.05555556, 0.05555556, 0.16666667, 0.        ,\n",
       "       0.11111111, 0.16666667, 0.33333333, 0.22222222, 0.16666667,\n",
       "       0.44444444, 0.94444444, 0.38888889, 0.22222222, 0.16666667,\n",
       "       0.66666667, 0.33333333, 0.05555556, 0.38888889, 0.55555556,\n",
       "       0.11111111, 0.22222222, 0.22222222, 0.22222222, 0.16666667,\n",
       "       0.11111111, 0.11111111, 0.11111111, 0.05555556, 0.05555556,\n",
       "       0.27777778, 0.77777778, 0.27777778, 0.05555556, 0.61111111])"
      ]
     },
     "execution_count": 55,
     "metadata": {},
     "output_type": "execute_result"
    }
   ],
   "source": [
    "y_pred_prob = rf2.predict_proba(X_test)[:,1]\n",
    "y_pred_prob"
   ]
  },
  {
   "cell_type": "code",
   "execution_count": 56,
   "metadata": {},
   "outputs": [
    {
     "data": {
      "text/plain": [
       "array([0, 0, 0, 0, 0, 0, 0, 1, 0, 0, 0, 0, 0, 0, 0, 0, 0, 1, 0, 0, 0, 0,\n",
       "       0, 0, 1, 0, 1, 0, 0, 0, 0, 0, 1, 1, 0, 0, 0, 0, 0, 0, 0, 0, 0, 0,\n",
       "       0, 1, 0, 0, 0, 0, 1, 0, 0, 1, 0, 0, 1, 0, 1, 1, 1, 0, 0, 0, 0, 0,\n",
       "       1, 1, 1, 1, 0, 0, 0, 0, 0, 0, 0, 0, 0, 0, 1, 0, 0, 0, 1, 0, 0, 0,\n",
       "       0, 0, 0, 1, 0, 0, 1, 0, 1, 0, 0, 0, 0, 0, 0, 1, 0, 1, 0, 0, 1, 0,\n",
       "       0, 0, 0, 0, 1, 0, 0, 0, 1, 1, 0, 1, 0, 0, 0, 0, 0, 1, 0, 1, 0, 0,\n",
       "       0, 1, 1, 1, 1, 1, 1, 0, 0, 0, 0, 0, 0, 0, 0, 0, 0, 0, 0, 0, 1, 0,\n",
       "       1, 0, 0, 0, 1, 0, 1, 0, 0, 0, 0, 0, 0, 1, 1, 1, 0, 0, 0, 0, 1, 0,\n",
       "       0, 0, 1, 0, 0, 0, 0, 0, 0, 0, 0, 1, 0, 0, 1, 1, 1, 0, 0, 1, 1, 0,\n",
       "       1, 1, 0, 0, 0, 0, 0, 0, 0, 0, 0, 0, 0, 1, 0, 0, 1])"
      ]
     },
     "execution_count": 56,
     "metadata": {},
     "output_type": "execute_result"
    }
   ],
   "source": [
    "y_pred_cutoff = np.where(y_pred_prob >= threshold, 1, 0)\n",
    "y_pred_cutoff"
   ]
  },
  {
   "cell_type": "markdown",
   "metadata": {},
   "source": [
    "## Models Comparison"
   ]
  },
  {
   "cell_type": "code",
   "execution_count": 45,
   "metadata": {
    "collapsed": true
   },
   "outputs": [],
   "source": [
    "Cs = np.logspace(-4., 4., 30)\n",
    "models = [LogisticRegressionCV(cv=10, Cs = Cs),\n",
    "          GaussianNB(),\n",
    "          RandomForestClassifier(max_depth=15, n_estimators=18),\n",
    "          GradientBoostingClassifier(learning_rate = 0.01, max_depth = 5, min_samples_split = 9),\n",
    "          XGBClassifier()]\n",
    "\n",
    "model_names = ['Logistic', 'Naive Bayes','Random Forest','Gradient Boosting','XGBoost']"
   ]
  },
  {
   "cell_type": "code",
   "execution_count": 46,
   "metadata": {},
   "outputs": [
    {
     "name": "stdout",
     "output_type": "stream",
     "text": [
      "[[145  21]\n",
      " [ 22  27]]\n",
      "[[145  21]\n",
      " [ 19  30]]\n",
      "[[138  28]\n",
      " [ 18  31]]\n",
      "[[144  22]\n",
      " [ 21  28]]\n",
      "[[143  23]\n",
      " [ 21  28]]\n"
     ]
    },
    {
     "name": "stderr",
     "output_type": "stream",
     "text": [
      "/Users/nataliabernardo/anaconda3/lib/python3.6/site-packages/sklearn/preprocessing/label.py:151: DeprecationWarning: The truth value of an empty array is ambiguous. Returning False, but in future this will result in an error. Use `array.size > 0` to check that an array is not empty.\n",
      "  if diff:\n"
     ]
    },
    {
     "data": {
      "text/html": [
       "<div>\n",
       "<style>\n",
       "    .dataframe thead tr:only-child th {\n",
       "        text-align: right;\n",
       "    }\n",
       "\n",
       "    .dataframe thead th {\n",
       "        text-align: left;\n",
       "    }\n",
       "\n",
       "    .dataframe tbody tr th {\n",
       "        vertical-align: top;\n",
       "    }\n",
       "</style>\n",
       "<table border=\"1\" class=\"dataframe\">\n",
       "  <thead>\n",
       "    <tr style=\"text-align: right;\">\n",
       "      <th></th>\n",
       "      <th>accuracy</th>\n",
       "      <th>auc</th>\n",
       "      <th>f1-fail</th>\n",
       "      <th>f1-pass</th>\n",
       "      <th>precision-fail</th>\n",
       "      <th>precision-pass</th>\n",
       "      <th>recall-fail</th>\n",
       "      <th>recall-pass</th>\n",
       "    </tr>\n",
       "  </thead>\n",
       "  <tbody>\n",
       "    <tr>\n",
       "      <th>Logistic</th>\n",
       "      <td>0.804651</td>\n",
       "      <td>0.809688</td>\n",
       "      <td>0.556701</td>\n",
       "      <td>0.870871</td>\n",
       "      <td>0.562500</td>\n",
       "      <td>0.868263</td>\n",
       "      <td>0.551020</td>\n",
       "      <td>0.873494</td>\n",
       "    </tr>\n",
       "    <tr>\n",
       "      <th>Naive Bayes</th>\n",
       "      <td>0.813953</td>\n",
       "      <td>0.807475</td>\n",
       "      <td>0.600000</td>\n",
       "      <td>0.878788</td>\n",
       "      <td>0.588235</td>\n",
       "      <td>0.884146</td>\n",
       "      <td>0.612245</td>\n",
       "      <td>0.873494</td>\n",
       "    </tr>\n",
       "    <tr>\n",
       "      <th>Random Forest</th>\n",
       "      <td>0.818605</td>\n",
       "      <td>0.797578</td>\n",
       "      <td>0.574074</td>\n",
       "      <td>0.857143</td>\n",
       "      <td>0.525424</td>\n",
       "      <td>0.884615</td>\n",
       "      <td>0.632653</td>\n",
       "      <td>0.831325</td>\n",
       "    </tr>\n",
       "    <tr>\n",
       "      <th>Gradient Boosting</th>\n",
       "      <td>0.800000</td>\n",
       "      <td>0.810610</td>\n",
       "      <td>0.565657</td>\n",
       "      <td>0.870091</td>\n",
       "      <td>0.560000</td>\n",
       "      <td>0.872727</td>\n",
       "      <td>0.571429</td>\n",
       "      <td>0.867470</td>\n",
       "    </tr>\n",
       "    <tr>\n",
       "      <th>XGBoost</th>\n",
       "      <td>0.813953</td>\n",
       "      <td>0.813007</td>\n",
       "      <td>0.560000</td>\n",
       "      <td>0.866667</td>\n",
       "      <td>0.549020</td>\n",
       "      <td>0.871951</td>\n",
       "      <td>0.571429</td>\n",
       "      <td>0.861446</td>\n",
       "    </tr>\n",
       "  </tbody>\n",
       "</table>\n",
       "</div>"
      ],
      "text/plain": [
       "                   accuracy       auc   f1-fail   f1-pass  precision-fail  \\\n",
       "Logistic           0.804651  0.809688  0.556701  0.870871        0.562500   \n",
       "Naive Bayes        0.813953  0.807475  0.600000  0.878788        0.588235   \n",
       "Random Forest      0.818605  0.797578  0.574074  0.857143        0.525424   \n",
       "Gradient Boosting  0.800000  0.810610  0.565657  0.870091        0.560000   \n",
       "XGBoost            0.813953  0.813007  0.560000  0.866667        0.549020   \n",
       "\n",
       "                   precision-pass  recall-fail  recall-pass  \n",
       "Logistic                 0.868263     0.551020     0.873494  \n",
       "Naive Bayes              0.884146     0.612245     0.873494  \n",
       "Random Forest            0.884615     0.632653     0.831325  \n",
       "Gradient Boosting        0.872727     0.571429     0.867470  \n",
       "XGBoost                  0.871951     0.571429     0.861446  "
      ]
     },
     "execution_count": 46,
     "metadata": {},
     "output_type": "execute_result"
    }
   ],
   "source": [
    "accuracy = []\n",
    "cutoff_accuracy = []\n",
    "precision_pass = []\n",
    "precision_fail = []\n",
    "recall_pass = []\n",
    "recall_fail = []\n",
    "f1_pass = []\n",
    "f1_fail = []\n",
    "auc = []\n",
    "threshold = 0.3\n",
    "\n",
    "## Go through the models and find the scores\n",
    "for model in models:\n",
    "    model.fit(X_train, y_train)\n",
    "    y_pred = model.predict(X_test)\n",
    "    y_pred_prob = model.predict_proba(X_test)[:,1]\n",
    "    \n",
    "    #predict with custom threshold\n",
    "    y_pred_cutoff = np.where(y_pred_prob >= threshold, 1, 0)\n",
    "    \n",
    "    cutoff_accuracy.append( accuracy_score(y_test, y_pred_cutoff) )\n",
    "    accuracy.append( accuracy_score(y_test, y_pred) )\n",
    "    \n",
    "    precision_pass.append( precision_score(y_test, y_pred_cutoff, pos_label=0) )\n",
    "    precision_fail.append( precision_score(y_test, y_pred_cutoff, pos_label=1) )\n",
    "    recall_pass.append( recall_score(y_test, y_pred_cutoff, pos_label=0))\n",
    "    recall_fail.append( recall_score(y_test, y_pred_cutoff, pos_label=1))\n",
    "    f1_pass.append( f1_score(y_test, y_pred_cutoff, pos_label=0) )\n",
    "    f1_fail.append( f1_score(y_test, y_pred_cutoff, pos_label=1) )\n",
    "    auc.append(roc_auc_score(y_test, y_pred_prob))\n",
    "    print (confusion_matrix(y_test,y_pred_cutoff))\n",
    "\n",
    "accuracy_df = pd.DataFrame({'accuracy':accuracy, 'auc':auc, 'precision-pass':precision_pass, 'precision-fail':precision_fail,\n",
    "                            'recall-pass':recall_pass, 'recall-fail':recall_fail, 'f1-pass':f1_pass, 'f1-fail':f1_fail})\n",
    "accuracy_df.set_index([model_names])"
   ]
  },
  {
   "cell_type": "markdown",
   "metadata": {},
   "source": [
    "### ROC Curve"
   ]
  },
  {
   "cell_type": "code",
   "execution_count": 47,
   "metadata": {
    "collapsed": true
   },
   "outputs": [],
   "source": [
    "## Calc and store each ROC and AUC\n",
    "fpr_list = []\n",
    "tpr_list = []\n",
    "auc_list = []\n",
    "for model in models:\n",
    "    y_pred_prob = model.predict_proba(X_test)[:,1]\n",
    "    fpr, tpr, _ = roc_curve(y_test, y_pred_prob)\n",
    "    fpr_list.append(fpr)\n",
    "    tpr_list.append(tpr)\n",
    "    auc_list.append(round(metrics.auc(fpr, tpr),4))"
   ]
  },
  {
   "cell_type": "code",
   "execution_count": 48,
   "metadata": {},
   "outputs": [
    {
     "data": {
      "text/plain": [
       "<matplotlib.legend.Legend at 0x119eaa2b0>"
      ]
     },
     "execution_count": 48,
     "metadata": {},
     "output_type": "execute_result"
    },
    {
     "data": {
      "image/png": "[encoded data removed]",
      "text/plain": [
       "<matplotlib.figure.Figure at 0x119d0f908>"
      ]
     },
     "metadata": {},
     "output_type": "display_data"
    }
   ],
   "source": [
    "## Plot them all on 1 graph\n",
    "plt.figure(figsize=(16,10))\n",
    "plt.xlim([0, 1])\n",
    "plt.ylim([0, 1])\n",
    "plt.title('ROC curve for Students Performance Classifiers')\n",
    "plt.xlabel('False Positive Rate (FPR)')\n",
    "plt.ylabel('True Positive Rate (TPR)')\n",
    "for i in range(len(fpr_list)):\n",
    "    plt.plot(fpr_list[i], tpr_list[i], label = model_names[i] + ' - AUC: ' + str(auc_list[i]))\n",
    "plt.legend(loc = 4, fontsize = 15)"
   ]
  },
  {
   "cell_type": "code",
   "execution_count": null,
   "metadata": {
    "collapsed": true
   },
   "outputs": [],
   "source": []
  },
  {
   "cell_type": "code",
   "execution_count": 49,
   "metadata": {
    "collapsed": true
   },
   "outputs": [],
   "source": [
    "# Connect to TabPy server using the client library\n",
    "connection = tabpy_client.Client('http://localhost:9004/')"
   ]
  },
  {
   "cell_type": "code",
   "execution_count": 50,
   "metadata": {
    "collapsed": true
   },
   "outputs": [],
   "source": [
    "def grade_prediction(school_MS, sex_M, address_U, famsize_LE3,\n",
    "       Pstatus_T, schoolsup_yes, famsup_yes, paid_yes,\n",
    "       activities_yes, nursery_yes, higher_yes, internet_yes,\n",
    "       romantic_yes, age, Medu, Fedu, traveltime, studytime,\n",
    "       famrel, freetime, goout, Dalc, Walc, health, absences,\n",
    "       failures, Mjob_health, Mjob_other, Mjob_services,\n",
    "       Mjob_teacher, Fjob_health, Fjob_other, Fjob_services,\n",
    "       Fjob_teacher, reason_home, reason_other, reason_reputation,\n",
    "       guardian_mother, guardian_other):\n",
    "    X = np.column_stack([school_MS, sex_M, address_U, famsize_LE3,\n",
    "       Pstatus_T, schoolsup_yes, famsup_yes, paid_yes,\n",
    "       activities_yes, nursery_yes, higher_yes, internet_yes,\n",
    "       romantic_yes, age, Medu, Fedu, traveltime, studytime,\n",
    "       famrel, freetime, goout, Dalc, Walc, health, absences,\n",
    "       failures, Mjob_health, Mjob_other, Mjob_services,\n",
    "       Mjob_teacher, Fjob_health, Fjob_other, Fjob_services,\n",
    "       Fjob_teacher, reason_home, reason_other, reason_reputation,\n",
    "       guardian_mother, guardian_other])\n",
    "    X = scaler.transform(X)\n",
    "    return encoder.inverse_transform(gbclf.predict(X)).tolist()"
   ]
  },
  {
   "cell_type": "code",
   "execution_count": 51,
   "metadata": {},
   "outputs": [
    {
     "ename": "ConnectionError",
     "evalue": "HTTPConnectionPool(host='localhost', port=9004): Max retries exceeded with url: /endpoints (Caused by NewConnectionError('<urllib3.connection.HTTPConnection object at 0x119d677b8>: Failed to establish a new connection: [Errno 61] Connection refused',))",
     "output_type": "error",
     "traceback": [
      "\u001b[0;31m---------------------------------------------------------------------------\u001b[0m",
      "\u001b[0;31mConnectionRefusedError\u001b[0m                    Traceback (most recent call last)",
      "\u001b[0;32m~/anaconda3/lib/python3.6/site-packages/urllib3/connection.py\u001b[0m in \u001b[0;36m_new_conn\u001b[0;34m(self)\u001b[0m\n\u001b[1;32m    140\u001b[0m             conn = connection.create_connection(\n\u001b[0;32m--> 141\u001b[0;31m                 (self.host, self.port), self.timeout, **extra_kw)\n\u001b[0m\u001b[1;32m    142\u001b[0m \u001b[0;34m\u001b[0m\u001b[0m\n",
      "\u001b[0;32m~/anaconda3/lib/python3.6/site-packages/urllib3/util/connection.py\u001b[0m in \u001b[0;36mcreate_connection\u001b[0;34m(address, timeout, source_address, socket_options)\u001b[0m\n\u001b[1;32m     82\u001b[0m     \u001b[0;32mif\u001b[0m \u001b[0merr\u001b[0m \u001b[0;32mis\u001b[0m \u001b[0;32mnot\u001b[0m \u001b[0;32mNone\u001b[0m\u001b[0;34m:\u001b[0m\u001b[0;34m\u001b[0m\u001b[0m\n\u001b[0;32m---> 83\u001b[0;31m         \u001b[0;32mraise\u001b[0m \u001b[0merr\u001b[0m\u001b[0;34m\u001b[0m\u001b[0m\n\u001b[0m\u001b[1;32m     84\u001b[0m \u001b[0;34m\u001b[0m\u001b[0m\n",
      "\u001b[0;32m~/anaconda3/lib/python3.6/site-packages/urllib3/util/connection.py\u001b[0m in \u001b[0;36mcreate_connection\u001b[0;34m(address, timeout, source_address, socket_options)\u001b[0m\n\u001b[1;32m     72\u001b[0m                 \u001b[0msock\u001b[0m\u001b[0;34m.\u001b[0m\u001b[0mbind\u001b[0m\u001b[0;34m(\u001b[0m\u001b[0msource_address\u001b[0m\u001b[0;34m)\u001b[0m\u001b[0;34m\u001b[0m\u001b[0m\n\u001b[0;32m---> 73\u001b[0;31m             \u001b[0msock\u001b[0m\u001b[0;34m.\u001b[0m\u001b[0mconnect\u001b[0m\u001b[0;34m(\u001b[0m\u001b[0msa\u001b[0m\u001b[0;34m)\u001b[0m\u001b[0;34m\u001b[0m\u001b[0m\n\u001b[0m\u001b[1;32m     74\u001b[0m             \u001b[0;32mreturn\u001b[0m \u001b[0msock\u001b[0m\u001b[0;34m\u001b[0m\u001b[0m\n",
      "\u001b[0;31mConnectionRefusedError\u001b[0m: [Errno 61] Connection refused",
      "\nDuring handling of the above exception, another exception occurred:\n",
      "\u001b[0;31mNewConnectionError\u001b[0m                        Traceback (most recent call last)",
      "\u001b[0;32m~/anaconda3/lib/python3.6/site-packages/urllib3/connectionpool.py\u001b[0m in \u001b[0;36murlopen\u001b[0;34m(self, method, url, body, headers, retries, redirect, assert_same_host, timeout, pool_timeout, release_conn, chunked, body_pos, **response_kw)\u001b[0m\n\u001b[1;32m    600\u001b[0m                                                   \u001b[0mbody\u001b[0m\u001b[0;34m=\u001b[0m\u001b[0mbody\u001b[0m\u001b[0;34m,\u001b[0m \u001b[0mheaders\u001b[0m\u001b[0;34m=\u001b[0m\u001b[0mheaders\u001b[0m\u001b[0;34m,\u001b[0m\u001b[0;34m\u001b[0m\u001b[0m\n\u001b[0;32m--> 601\u001b[0;31m                                                   chunked=chunked)\n\u001b[0m\u001b[1;32m    602\u001b[0m \u001b[0;34m\u001b[0m\u001b[0m\n",
      "\u001b[0;32m~/anaconda3/lib/python3.6/site-packages/urllib3/connectionpool.py\u001b[0m in \u001b[0;36m_make_request\u001b[0;34m(self, conn, method, url, timeout, chunked, **httplib_request_kw)\u001b[0m\n\u001b[1;32m    356\u001b[0m         \u001b[0;32melse\u001b[0m\u001b[0;34m:\u001b[0m\u001b[0;34m\u001b[0m\u001b[0m\n\u001b[0;32m--> 357\u001b[0;31m             \u001b[0mconn\u001b[0m\u001b[0;34m.\u001b[0m\u001b[0mrequest\u001b[0m\u001b[0;34m(\u001b[0m\u001b[0mmethod\u001b[0m\u001b[0;34m,\u001b[0m \u001b[0murl\u001b[0m\u001b[0;34m,\u001b[0m \u001b[0;34m**\u001b[0m\u001b[0mhttplib_request_kw\u001b[0m\u001b[0;34m)\u001b[0m\u001b[0;34m\u001b[0m\u001b[0m\n\u001b[0m\u001b[1;32m    358\u001b[0m \u001b[0;34m\u001b[0m\u001b[0m\n",
      "\u001b[0;32m~/anaconda3/lib/python3.6/http/client.py\u001b[0m in \u001b[0;36mrequest\u001b[0;34m(self, method, url, body, headers, encode_chunked)\u001b[0m\n\u001b[1;32m   1238\u001b[0m         \u001b[0;34m\"\"\"Send a complete request to the server.\"\"\"\u001b[0m\u001b[0;34m\u001b[0m\u001b[0m\n\u001b[0;32m-> 1239\u001b[0;31m         \u001b[0mself\u001b[0m\u001b[0;34m.\u001b[0m\u001b[0m_send_request\u001b[0m\u001b[0;34m(\u001b[0m\u001b[0mmethod\u001b[0m\u001b[0;34m,\u001b[0m \u001b[0murl\u001b[0m\u001b[0;34m,\u001b[0m \u001b[0mbody\u001b[0m\u001b[0;34m,\u001b[0m \u001b[0mheaders\u001b[0m\u001b[0;34m,\u001b[0m \u001b[0mencode_chunked\u001b[0m\u001b[0;34m)\u001b[0m\u001b[0;34m\u001b[0m\u001b[0m\n\u001b[0m\u001b[1;32m   1240\u001b[0m \u001b[0;34m\u001b[0m\u001b[0m\n",
      "\u001b[0;32m~/anaconda3/lib/python3.6/http/client.py\u001b[0m in \u001b[0;36m_send_request\u001b[0;34m(self, method, url, body, headers, encode_chunked)\u001b[0m\n\u001b[1;32m   1284\u001b[0m             \u001b[0mbody\u001b[0m \u001b[0;34m=\u001b[0m \u001b[0m_encode\u001b[0m\u001b[0;34m(\u001b[0m\u001b[0mbody\u001b[0m\u001b[0;34m,\u001b[0m \u001b[0;34m'body'\u001b[0m\u001b[0;34m)\u001b[0m\u001b[0;34m\u001b[0m\u001b[0m\n\u001b[0;32m-> 1285\u001b[0;31m         \u001b[0mself\u001b[0m\u001b[0;34m.\u001b[0m\u001b[0mendheaders\u001b[0m\u001b[0;34m(\u001b[0m\u001b[0mbody\u001b[0m\u001b[0;34m,\u001b[0m \u001b[0mencode_chunked\u001b[0m\u001b[0;34m=\u001b[0m\u001b[0mencode_chunked\u001b[0m\u001b[0;34m)\u001b[0m\u001b[0;34m\u001b[0m\u001b[0m\n\u001b[0m\u001b[1;32m   1286\u001b[0m \u001b[0;34m\u001b[0m\u001b[0m\n",
      "\u001b[0;32m~/anaconda3/lib/python3.6/http/client.py\u001b[0m in \u001b[0;36mendheaders\u001b[0;34m(self, message_body, encode_chunked)\u001b[0m\n\u001b[1;32m   1233\u001b[0m             \u001b[0;32mraise\u001b[0m \u001b[0mCannotSendHeader\u001b[0m\u001b[0;34m(\u001b[0m\u001b[0;34m)\u001b[0m\u001b[0;34m\u001b[0m\u001b[0m\n\u001b[0;32m-> 1234\u001b[0;31m         \u001b[0mself\u001b[0m\u001b[0;34m.\u001b[0m\u001b[0m_send_output\u001b[0m\u001b[0;34m(\u001b[0m\u001b[0mmessage_body\u001b[0m\u001b[0;34m,\u001b[0m \u001b[0mencode_chunked\u001b[0m\u001b[0;34m=\u001b[0m\u001b[0mencode_chunked\u001b[0m\u001b[0;34m)\u001b[0m\u001b[0;34m\u001b[0m\u001b[0m\n\u001b[0m\u001b[1;32m   1235\u001b[0m \u001b[0;34m\u001b[0m\u001b[0m\n",
      "\u001b[0;32m~/anaconda3/lib/python3.6/http/client.py\u001b[0m in \u001b[0;36m_send_output\u001b[0;34m(self, message_body, encode_chunked)\u001b[0m\n\u001b[1;32m   1025\u001b[0m         \u001b[0;32mdel\u001b[0m \u001b[0mself\u001b[0m\u001b[0;34m.\u001b[0m\u001b[0m_buffer\u001b[0m\u001b[0;34m[\u001b[0m\u001b[0;34m:\u001b[0m\u001b[0;34m]\u001b[0m\u001b[0;34m\u001b[0m\u001b[0m\n\u001b[0;32m-> 1026\u001b[0;31m         \u001b[0mself\u001b[0m\u001b[0;34m.\u001b[0m\u001b[0msend\u001b[0m\u001b[0;34m(\u001b[0m\u001b[0mmsg\u001b[0m\u001b[0;34m)\u001b[0m\u001b[0;34m\u001b[0m\u001b[0m\n\u001b[0m\u001b[1;32m   1027\u001b[0m \u001b[0;34m\u001b[0m\u001b[0m\n",
      "\u001b[0;32m~/anaconda3/lib/python3.6/http/client.py\u001b[0m in \u001b[0;36msend\u001b[0;34m(self, data)\u001b[0m\n\u001b[1;32m    963\u001b[0m             \u001b[0;32mif\u001b[0m \u001b[0mself\u001b[0m\u001b[0;34m.\u001b[0m\u001b[0mauto_open\u001b[0m\u001b[0;34m:\u001b[0m\u001b[0;34m\u001b[0m\u001b[0m\n\u001b[0;32m--> 964\u001b[0;31m                 \u001b[0mself\u001b[0m\u001b[0;34m.\u001b[0m\u001b[0mconnect\u001b[0m\u001b[0;34m(\u001b[0m\u001b[0;34m)\u001b[0m\u001b[0;34m\u001b[0m\u001b[0m\n\u001b[0m\u001b[1;32m    965\u001b[0m             \u001b[0;32melse\u001b[0m\u001b[0;34m:\u001b[0m\u001b[0;34m\u001b[0m\u001b[0m\n",
      "\u001b[0;32m~/anaconda3/lib/python3.6/site-packages/urllib3/connection.py\u001b[0m in \u001b[0;36mconnect\u001b[0;34m(self)\u001b[0m\n\u001b[1;32m    165\u001b[0m     \u001b[0;32mdef\u001b[0m \u001b[0mconnect\u001b[0m\u001b[0;34m(\u001b[0m\u001b[0mself\u001b[0m\u001b[0;34m)\u001b[0m\u001b[0;34m:\u001b[0m\u001b[0;34m\u001b[0m\u001b[0m\n\u001b[0;32m--> 166\u001b[0;31m         \u001b[0mconn\u001b[0m \u001b[0;34m=\u001b[0m \u001b[0mself\u001b[0m\u001b[0;34m.\u001b[0m\u001b[0m_new_conn\u001b[0m\u001b[0;34m(\u001b[0m\u001b[0;34m)\u001b[0m\u001b[0;34m\u001b[0m\u001b[0m\n\u001b[0m\u001b[1;32m    167\u001b[0m         \u001b[0mself\u001b[0m\u001b[0;34m.\u001b[0m\u001b[0m_prepare_conn\u001b[0m\u001b[0;34m(\u001b[0m\u001b[0mconn\u001b[0m\u001b[0;34m)\u001b[0m\u001b[0;34m\u001b[0m\u001b[0m\n",
      "\u001b[0;32m~/anaconda3/lib/python3.6/site-packages/urllib3/connection.py\u001b[0m in \u001b[0;36m_new_conn\u001b[0;34m(self)\u001b[0m\n\u001b[1;32m    149\u001b[0m             raise NewConnectionError(\n\u001b[0;32m--> 150\u001b[0;31m                 self, \"Failed to establish a new connection: %s\" % e)\n\u001b[0m\u001b[1;32m    151\u001b[0m \u001b[0;34m\u001b[0m\u001b[0m\n",
      "\u001b[0;31mNewConnectionError\u001b[0m: <urllib3.connection.HTTPConnection object at 0x119d677b8>: Failed to establish a new connection: [Errno 61] Connection refused",
      "\nDuring handling of the above exception, another exception occurred:\n",
      "\u001b[0;31mMaxRetryError\u001b[0m                             Traceback (most recent call last)",
      "\u001b[0;32m~/anaconda3/lib/python3.6/site-packages/requests/adapters.py\u001b[0m in \u001b[0;36msend\u001b[0;34m(self, request, stream, timeout, verify, cert, proxies)\u001b[0m\n\u001b[1;32m    439\u001b[0m                     \u001b[0mretries\u001b[0m\u001b[0;34m=\u001b[0m\u001b[0mself\u001b[0m\u001b[0;34m.\u001b[0m\u001b[0mmax_retries\u001b[0m\u001b[0;34m,\u001b[0m\u001b[0;34m\u001b[0m\u001b[0m\n\u001b[0;32m--> 440\u001b[0;31m                     \u001b[0mtimeout\u001b[0m\u001b[0;34m=\u001b[0m\u001b[0mtimeout\u001b[0m\u001b[0;34m\u001b[0m\u001b[0m\n\u001b[0m\u001b[1;32m    441\u001b[0m                 )\n",
      "\u001b[0;32m~/anaconda3/lib/python3.6/site-packages/urllib3/connectionpool.py\u001b[0m in \u001b[0;36murlopen\u001b[0;34m(self, method, url, body, headers, retries, redirect, assert_same_host, timeout, pool_timeout, release_conn, chunked, body_pos, **response_kw)\u001b[0m\n\u001b[1;32m    638\u001b[0m             retries = retries.increment(method, url, error=e, _pool=self,\n\u001b[0;32m--> 639\u001b[0;31m                                         _stacktrace=sys.exc_info()[2])\n\u001b[0m\u001b[1;32m    640\u001b[0m             \u001b[0mretries\u001b[0m\u001b[0;34m.\u001b[0m\u001b[0msleep\u001b[0m\u001b[0;34m(\u001b[0m\u001b[0;34m)\u001b[0m\u001b[0;34m\u001b[0m\u001b[0m\n",
      "\u001b[0;32m~/anaconda3/lib/python3.6/site-packages/urllib3/util/retry.py\u001b[0m in \u001b[0;36mincrement\u001b[0;34m(self, method, url, response, error, _pool, _stacktrace)\u001b[0m\n\u001b[1;32m    387\u001b[0m         \u001b[0;32mif\u001b[0m \u001b[0mnew_retry\u001b[0m\u001b[0;34m.\u001b[0m\u001b[0mis_exhausted\u001b[0m\u001b[0;34m(\u001b[0m\u001b[0;34m)\u001b[0m\u001b[0;34m:\u001b[0m\u001b[0;34m\u001b[0m\u001b[0m\n\u001b[0;32m--> 388\u001b[0;31m             \u001b[0;32mraise\u001b[0m \u001b[0mMaxRetryError\u001b[0m\u001b[0;34m(\u001b[0m\u001b[0m_pool\u001b[0m\u001b[0;34m,\u001b[0m \u001b[0murl\u001b[0m\u001b[0;34m,\u001b[0m \u001b[0merror\u001b[0m \u001b[0;32mor\u001b[0m \u001b[0mResponseError\u001b[0m\u001b[0;34m(\u001b[0m\u001b[0mcause\u001b[0m\u001b[0;34m)\u001b[0m\u001b[0;34m)\u001b[0m\u001b[0;34m\u001b[0m\u001b[0m\n\u001b[0m\u001b[1;32m    389\u001b[0m \u001b[0;34m\u001b[0m\u001b[0m\n",
      "\u001b[0;31mMaxRetryError\u001b[0m: HTTPConnectionPool(host='localhost', port=9004): Max retries exceeded with url: /endpoints (Caused by NewConnectionError('<urllib3.connection.HTTPConnection object at 0x119d677b8>: Failed to establish a new connection: [Errno 61] Connection refused',))",
      "\nDuring handling of the above exception, another exception occurred:\n",
      "\u001b[0;31mConnectionError\u001b[0m                           Traceback (most recent call last)",
      "\u001b[0;32m<ipython-input-51-f252a1ad4d49>\u001b[0m in \u001b[0;36m<module>\u001b[0;34m()\u001b[0m\n\u001b[1;32m      3\u001b[0m connection.deploy('PredictionDemo',\n\u001b[1;32m      4\u001b[0m                   \u001b[0mgrade_prediction\u001b[0m\u001b[0;34m,\u001b[0m\u001b[0;34m\u001b[0m\u001b[0m\n\u001b[0;32m----> 5\u001b[0;31m                   'Returns prediction suggestion')\n\u001b[0m",
      "\u001b[0;32m~/anaconda3/lib/python3.6/site-packages/tabpy_client/client.py\u001b[0m in \u001b[0;36mdeploy\u001b[0;34m(self, name, obj, description, schema, override)\u001b[0m\n\u001b[1;32m    310\u001b[0m \u001b[0;34m\u001b[0m\u001b[0m\n\u001b[1;32m    311\u001b[0m         \"\"\"\n\u001b[0;32m--> 312\u001b[0;31m         \u001b[0mendpoint\u001b[0m \u001b[0;34m=\u001b[0m \u001b[0mself\u001b[0m\u001b[0;34m.\u001b[0m\u001b[0mget_endpoints\u001b[0m\u001b[0;34m(\u001b[0m\u001b[0;34m)\u001b[0m\u001b[0;34m.\u001b[0m\u001b[0mget\u001b[0m\u001b[0;34m(\u001b[0m\u001b[0mname\u001b[0m\u001b[0;34m)\u001b[0m\u001b[0;34m\u001b[0m\u001b[0m\n\u001b[0m\u001b[1;32m    313\u001b[0m         \u001b[0;32mif\u001b[0m \u001b[0mendpoint\u001b[0m\u001b[0;34m:\u001b[0m\u001b[0;34m\u001b[0m\u001b[0m\n\u001b[1;32m    314\u001b[0m             \u001b[0;32mif\u001b[0m \u001b[0;32mnot\u001b[0m \u001b[0moverride\u001b[0m\u001b[0;34m:\u001b[0m\u001b[0;34m\u001b[0m\u001b[0m\n",
      "\u001b[0;32m~/anaconda3/lib/python3.6/site-packages/tabpy_client/client.py\u001b[0m in \u001b[0;36mget_endpoints\u001b[0;34m(self, type)\u001b[0m\n\u001b[1;32m    218\u001b[0m             }\n\u001b[1;32m    219\u001b[0m         \"\"\"\n\u001b[0;32m--> 220\u001b[0;31m         \u001b[0;32mreturn\u001b[0m \u001b[0mself\u001b[0m\u001b[0;34m.\u001b[0m\u001b[0m_service\u001b[0m\u001b[0;34m.\u001b[0m\u001b[0mget_endpoints\u001b[0m\u001b[0;34m(\u001b[0m\u001b[0mtype\u001b[0m\u001b[0;34m)\u001b[0m\u001b[0;34m\u001b[0m\u001b[0m\n\u001b[0m\u001b[1;32m    221\u001b[0m \u001b[0;34m\u001b[0m\u001b[0m\n\u001b[1;32m    222\u001b[0m     \u001b[0;32mdef\u001b[0m \u001b[0m_get_endpoint_upload_destination\u001b[0m\u001b[0;34m(\u001b[0m\u001b[0mself\u001b[0m\u001b[0;34m)\u001b[0m\u001b[0;34m:\u001b[0m\u001b[0;34m\u001b[0m\u001b[0m\n",
      "\u001b[0;32m~/anaconda3/lib/python3.6/site-packages/tabpy_client/rest_client.py\u001b[0m in \u001b[0;36mget_endpoints\u001b[0;34m(self, type)\u001b[0m\n\u001b[1;32m    187\u001b[0m         for name, attrs in self.service_client.GET(\n\u001b[1;32m    188\u001b[0m                 \u001b[0;34m'endpoints'\u001b[0m\u001b[0;34m,\u001b[0m\u001b[0;34m\u001b[0m\u001b[0m\n\u001b[0;32m--> 189\u001b[0;31m                 {'type':type}).items():\n\u001b[0m\u001b[1;32m    190\u001b[0m             \u001b[0mendpoint\u001b[0m \u001b[0;34m=\u001b[0m \u001b[0mEndpoint\u001b[0m\u001b[0;34m.\u001b[0m\u001b[0mfrom_json\u001b[0m\u001b[0;34m(\u001b[0m\u001b[0mattrs\u001b[0m\u001b[0;34m)\u001b[0m\u001b[0;34m\u001b[0m\u001b[0m\n\u001b[1;32m    191\u001b[0m             \u001b[0mendpoint\u001b[0m\u001b[0;34m.\u001b[0m\u001b[0mname\u001b[0m \u001b[0;34m=\u001b[0m \u001b[0mname\u001b[0m\u001b[0;34m\u001b[0m\u001b[0m\n",
      "\u001b[0;32m~/anaconda3/lib/python3.6/site-packages/tabpy_client/rest.py\u001b[0m in \u001b[0;36mGET\u001b[0;34m(self, url, data, timeout)\u001b[0m\n\u001b[1;32m    166\u001b[0m     \u001b[0;32mdef\u001b[0m \u001b[0mGET\u001b[0m\u001b[0;34m(\u001b[0m\u001b[0mself\u001b[0m\u001b[0;34m,\u001b[0m \u001b[0murl\u001b[0m\u001b[0;34m,\u001b[0m \u001b[0mdata\u001b[0m\u001b[0;34m=\u001b[0m\u001b[0;32mNone\u001b[0m\u001b[0;34m,\u001b[0m \u001b[0mtimeout\u001b[0m\u001b[0;34m=\u001b[0m\u001b[0;32mNone\u001b[0m\u001b[0;34m)\u001b[0m\u001b[0;34m:\u001b[0m\u001b[0;34m\u001b[0m\u001b[0m\n\u001b[1;32m    167\u001b[0m         \u001b[0;34m\"\"\"Prepends self.endpoint to the url and issues a GET request.\"\"\"\u001b[0m\u001b[0;34m\u001b[0m\u001b[0m\n\u001b[0;32m--> 168\u001b[0;31m         \u001b[0;32mreturn\u001b[0m \u001b[0mself\u001b[0m\u001b[0;34m.\u001b[0m\u001b[0mnetwork_wrapper\u001b[0m\u001b[0;34m.\u001b[0m\u001b[0mGET\u001b[0m\u001b[0;34m(\u001b[0m\u001b[0mself\u001b[0m\u001b[0;34m.\u001b[0m\u001b[0mendpoint\u001b[0m \u001b[0;34m+\u001b[0m \u001b[0murl\u001b[0m\u001b[0;34m,\u001b[0m \u001b[0mdata\u001b[0m\u001b[0;34m,\u001b[0m \u001b[0mtimeout\u001b[0m\u001b[0;34m)\u001b[0m\u001b[0;34m\u001b[0m\u001b[0m\n\u001b[0m\u001b[1;32m    169\u001b[0m \u001b[0;34m\u001b[0m\u001b[0m\n\u001b[1;32m    170\u001b[0m     \u001b[0;32mdef\u001b[0m \u001b[0mPOST\u001b[0m\u001b[0;34m(\u001b[0m\u001b[0mself\u001b[0m\u001b[0;34m,\u001b[0m \u001b[0murl\u001b[0m\u001b[0;34m,\u001b[0m \u001b[0mdata\u001b[0m\u001b[0;34m=\u001b[0m\u001b[0;32mNone\u001b[0m\u001b[0;34m,\u001b[0m \u001b[0mtimeout\u001b[0m\u001b[0;34m=\u001b[0m\u001b[0;32mNone\u001b[0m\u001b[0;34m)\u001b[0m\u001b[0;34m:\u001b[0m\u001b[0;34m\u001b[0m\u001b[0m\n",
      "\u001b[0;32m~/anaconda3/lib/python3.6/site-packages/tabpy_client/rest.py\u001b[0m in \u001b[0;36mGET\u001b[0;34m(self, url, data, timeout)\u001b[0m\n\u001b[1;32m     83\u001b[0m         \u001b[0m_logger\u001b[0m\u001b[0;34m.\u001b[0m\u001b[0minfo\u001b[0m\u001b[0;34m(\u001b[0m\u001b[0;34m\"GET %s with %r\"\u001b[0m\u001b[0;34m,\u001b[0m \u001b[0murl\u001b[0m\u001b[0;34m,\u001b[0m \u001b[0mdata\u001b[0m\u001b[0;34m)\u001b[0m\u001b[0;34m\u001b[0m\u001b[0m\n\u001b[1;32m     84\u001b[0m \u001b[0;34m\u001b[0m\u001b[0m\n\u001b[0;32m---> 85\u001b[0;31m         \u001b[0mresponse\u001b[0m \u001b[0;34m=\u001b[0m \u001b[0mself\u001b[0m\u001b[0;34m.\u001b[0m\u001b[0msession\u001b[0m\u001b[0;34m.\u001b[0m\u001b[0mget\u001b[0m\u001b[0;34m(\u001b[0m\u001b[0murl\u001b[0m\u001b[0;34m,\u001b[0m \u001b[0mparams\u001b[0m\u001b[0;34m=\u001b[0m\u001b[0mdata\u001b[0m\u001b[0;34m,\u001b[0m \u001b[0mtimeout\u001b[0m\u001b[0;34m=\u001b[0m\u001b[0mtimeout\u001b[0m\u001b[0;34m)\u001b[0m\u001b[0;34m\u001b[0m\u001b[0m\n\u001b[0m\u001b[1;32m     86\u001b[0m         \u001b[0;32mif\u001b[0m \u001b[0mresponse\u001b[0m\u001b[0;34m.\u001b[0m\u001b[0mstatus_code\u001b[0m \u001b[0;34m!=\u001b[0m \u001b[0;36m200\u001b[0m\u001b[0;34m:\u001b[0m\u001b[0;34m\u001b[0m\u001b[0m\n\u001b[1;32m     87\u001b[0m             \u001b[0mself\u001b[0m\u001b[0;34m.\u001b[0m\u001b[0mraise_error\u001b[0m\u001b[0;34m(\u001b[0m\u001b[0mresponse\u001b[0m\u001b[0;34m)\u001b[0m\u001b[0;34m\u001b[0m\u001b[0m\n",
      "\u001b[0;32m~/anaconda3/lib/python3.6/site-packages/requests/sessions.py\u001b[0m in \u001b[0;36mget\u001b[0;34m(self, url, **kwargs)\u001b[0m\n\u001b[1;32m    519\u001b[0m \u001b[0;34m\u001b[0m\u001b[0m\n\u001b[1;32m    520\u001b[0m         \u001b[0mkwargs\u001b[0m\u001b[0;34m.\u001b[0m\u001b[0msetdefault\u001b[0m\u001b[0;34m(\u001b[0m\u001b[0;34m'allow_redirects'\u001b[0m\u001b[0;34m,\u001b[0m \u001b[0;32mTrue\u001b[0m\u001b[0;34m)\u001b[0m\u001b[0;34m\u001b[0m\u001b[0m\n\u001b[0;32m--> 521\u001b[0;31m         \u001b[0;32mreturn\u001b[0m \u001b[0mself\u001b[0m\u001b[0;34m.\u001b[0m\u001b[0mrequest\u001b[0m\u001b[0;34m(\u001b[0m\u001b[0;34m'GET'\u001b[0m\u001b[0;34m,\u001b[0m \u001b[0murl\u001b[0m\u001b[0;34m,\u001b[0m \u001b[0;34m**\u001b[0m\u001b[0mkwargs\u001b[0m\u001b[0;34m)\u001b[0m\u001b[0;34m\u001b[0m\u001b[0m\n\u001b[0m\u001b[1;32m    522\u001b[0m \u001b[0;34m\u001b[0m\u001b[0m\n\u001b[1;32m    523\u001b[0m     \u001b[0;32mdef\u001b[0m \u001b[0moptions\u001b[0m\u001b[0;34m(\u001b[0m\u001b[0mself\u001b[0m\u001b[0;34m,\u001b[0m \u001b[0murl\u001b[0m\u001b[0;34m,\u001b[0m \u001b[0;34m**\u001b[0m\u001b[0mkwargs\u001b[0m\u001b[0;34m)\u001b[0m\u001b[0;34m:\u001b[0m\u001b[0;34m\u001b[0m\u001b[0m\n",
      "\u001b[0;32m~/anaconda3/lib/python3.6/site-packages/requests/sessions.py\u001b[0m in \u001b[0;36mrequest\u001b[0;34m(self, method, url, params, data, headers, cookies, files, auth, timeout, allow_redirects, proxies, hooks, stream, verify, cert, json)\u001b[0m\n\u001b[1;32m    506\u001b[0m         }\n\u001b[1;32m    507\u001b[0m         \u001b[0msend_kwargs\u001b[0m\u001b[0;34m.\u001b[0m\u001b[0mupdate\u001b[0m\u001b[0;34m(\u001b[0m\u001b[0msettings\u001b[0m\u001b[0;34m)\u001b[0m\u001b[0;34m\u001b[0m\u001b[0m\n\u001b[0;32m--> 508\u001b[0;31m         \u001b[0mresp\u001b[0m \u001b[0;34m=\u001b[0m \u001b[0mself\u001b[0m\u001b[0;34m.\u001b[0m\u001b[0msend\u001b[0m\u001b[0;34m(\u001b[0m\u001b[0mprep\u001b[0m\u001b[0;34m,\u001b[0m \u001b[0;34m**\u001b[0m\u001b[0msend_kwargs\u001b[0m\u001b[0;34m)\u001b[0m\u001b[0;34m\u001b[0m\u001b[0m\n\u001b[0m\u001b[1;32m    509\u001b[0m \u001b[0;34m\u001b[0m\u001b[0m\n\u001b[1;32m    510\u001b[0m         \u001b[0;32mreturn\u001b[0m \u001b[0mresp\u001b[0m\u001b[0;34m\u001b[0m\u001b[0m\n",
      "\u001b[0;32m~/anaconda3/lib/python3.6/site-packages/requests/sessions.py\u001b[0m in \u001b[0;36msend\u001b[0;34m(self, request, **kwargs)\u001b[0m\n\u001b[1;32m    616\u001b[0m \u001b[0;34m\u001b[0m\u001b[0m\n\u001b[1;32m    617\u001b[0m         \u001b[0;31m# Send the request\u001b[0m\u001b[0;34m\u001b[0m\u001b[0;34m\u001b[0m\u001b[0m\n\u001b[0;32m--> 618\u001b[0;31m         \u001b[0mr\u001b[0m \u001b[0;34m=\u001b[0m \u001b[0madapter\u001b[0m\u001b[0;34m.\u001b[0m\u001b[0msend\u001b[0m\u001b[0;34m(\u001b[0m\u001b[0mrequest\u001b[0m\u001b[0;34m,\u001b[0m \u001b[0;34m**\u001b[0m\u001b[0mkwargs\u001b[0m\u001b[0;34m)\u001b[0m\u001b[0;34m\u001b[0m\u001b[0m\n\u001b[0m\u001b[1;32m    619\u001b[0m \u001b[0;34m\u001b[0m\u001b[0m\n\u001b[1;32m    620\u001b[0m         \u001b[0;31m# Total elapsed time of the request (approximately)\u001b[0m\u001b[0;34m\u001b[0m\u001b[0;34m\u001b[0m\u001b[0m\n",
      "\u001b[0;32m~/anaconda3/lib/python3.6/site-packages/requests/adapters.py\u001b[0m in \u001b[0;36msend\u001b[0;34m(self, request, stream, timeout, verify, cert, proxies)\u001b[0m\n\u001b[1;32m    506\u001b[0m                 \u001b[0;32mraise\u001b[0m \u001b[0mSSLError\u001b[0m\u001b[0;34m(\u001b[0m\u001b[0me\u001b[0m\u001b[0;34m,\u001b[0m \u001b[0mrequest\u001b[0m\u001b[0;34m=\u001b[0m\u001b[0mrequest\u001b[0m\u001b[0;34m)\u001b[0m\u001b[0;34m\u001b[0m\u001b[0m\n\u001b[1;32m    507\u001b[0m \u001b[0;34m\u001b[0m\u001b[0m\n\u001b[0;32m--> 508\u001b[0;31m             \u001b[0;32mraise\u001b[0m \u001b[0mConnectionError\u001b[0m\u001b[0;34m(\u001b[0m\u001b[0me\u001b[0m\u001b[0;34m,\u001b[0m \u001b[0mrequest\u001b[0m\u001b[0;34m=\u001b[0m\u001b[0mrequest\u001b[0m\u001b[0;34m)\u001b[0m\u001b[0;34m\u001b[0m\u001b[0m\n\u001b[0m\u001b[1;32m    509\u001b[0m \u001b[0;34m\u001b[0m\u001b[0m\n\u001b[1;32m    510\u001b[0m         \u001b[0;32mexcept\u001b[0m \u001b[0mClosedPoolError\u001b[0m \u001b[0;32mas\u001b[0m \u001b[0me\u001b[0m\u001b[0;34m:\u001b[0m\u001b[0;34m\u001b[0m\u001b[0m\n",
      "\u001b[0;31mConnectionError\u001b[0m: HTTPConnectionPool(host='localhost', port=9004): Max retries exceeded with url: /endpoints (Caused by NewConnectionError('<urllib3.connection.HTTPConnection object at 0x119d677b8>: Failed to establish a new connection: [Errno 61] Connection refused',))"
     ]
    }
   ],
   "source": [
    "# Publish the SuggestDiagnosis function to TabPy server so it can be used from Tableau\n",
    "# Using the name DiagnosticsDemo and a short description of what it does\n",
    "connection.deploy('PredictionDemo',\n",
    "                  grade_prediction,\n",
    "                  'Returns prediction suggestion')"
   ]
  },
  {
   "cell_type": "code",
   "execution_count": null,
   "metadata": {
    "collapsed": true
   },
   "outputs": [],
   "source": []
  },
  {
   "cell_type": "code",
   "execution_count": null,
   "metadata": {
    "collapsed": true
   },
   "outputs": [],
   "source": [
    "model = RandomForestClassifier(max_depth=15, n_estimators=18)"
   ]
  },
  {
   "cell_type": "code",
   "execution_count": null,
   "metadata": {},
   "outputs": [],
   "source": [
    "model.fit(X_train, y_train)\n",
    "y_pred = model.predict(X_test)\n",
    "y_pred_prob = model.predict_proba(X_test)[:,1]\n",
    "\n",
    "\n",
    "accuracy = accuracy_score(y_test, y_pred)\n",
    "\n",
    "precision_pass = precision_score(y_test, y_pred, pos_label=0) \n",
    "precision_fail = precision_score(y_test, y_pred, pos_label=1) \n",
    "recall_pass = recall_score(y_test, y_pred, pos_label=0)\n",
    "recall_fail = recall_score(y_test, y_pred, pos_label=1)\n",
    "f1_pass = f1_score(y_test, y_pred, pos_label=0) \n",
    "f1_fail = f1_score(y_test, y_pred, pos_label=1) \n",
    "auc = roc_auc_score(y_test, y_pred)\n",
    "\n",
    "print(auc, f1_fail)"
   ]
  },
  {
   "cell_type": "code",
   "execution_count": null,
   "metadata": {},
   "outputs": [],
   "source": [
    "y_pred_prob = model.predict_proba(X_test)[:,1]\n",
    "y_pred = model.predict(X_test)"
   ]
  },
  {
   "cell_type": "code",
   "execution_count": null,
   "metadata": {},
   "outputs": [],
   "source": [
    "fpr, tpr, thresholds =roc_curve(y_test, y_pred_prob)\n",
    "roc_auc = metrics.auc(fpr, tpr)\n",
    "print(\"Area under the ROC curve : %f\" % roc_auc)\n",
    "\n",
    "####################################\n",
    "# The optimal cut off would be where tpr is high and fpr is low\n",
    "# tpr - (1-fpr) is zero or near to zero is the optimal cut off point\n",
    "####################################\n",
    "i = np.arange(len(tpr)) # index for df\n",
    "roc = pd.DataFrame({'fpr' : pd.Series(fpr, index=i),'tpr' : pd.Series(tpr, index = i), '1-fpr' : pd.Series(1-fpr, index = i), 'tf' : pd.Series(tpr - (1-fpr), index = i), 'thresholds' : pd.Series(thresholds, index = i)})\n",
    "roc.iloc[(roc.tf-0).abs().argsort()[:1]]\n"
   ]
  },
  {
   "cell_type": "code",
   "execution_count": null,
   "metadata": {},
   "outputs": [],
   "source": [
    "def Find_Optimal_Cutoff(target, predicted):\n",
    "    \"\"\" Find the optimal probability cutoff point for a classification model related to event rate\n",
    "    Parameters\n",
    "    ----------\n",
    "    target : Matrix with dependent or target data, where rows are observations\n",
    "\n",
    "    predicted : Matrix with predicted data, where rows are observations\n",
    "\n",
    "    Returns\n",
    "    -------     \n",
    "    list type, with optimal cutoff value\n",
    "\n",
    "    \"\"\"\n",
    "    fpr, tpr, threshold = roc_curve(target, predicted)\n",
    "    i = np.arange(len(tpr)) \n",
    "    roc = pd.DataFrame({'tf' : pd.Series(tpr-(1-fpr), index=i), 'threshold' : pd.Series(threshold, index=i)})\n",
    "    roc_t = roc.iloc[(roc.tf-0).abs().argsort()[:1]]\n",
    "\n",
    "    return list(roc_t['threshold']) \n",
    "\n",
    "\n",
    "Find_Optimal_Cutoff(y_test, y_pred_prob)"
   ]
  },
  {
   "cell_type": "code",
   "execution_count": null,
   "metadata": {},
   "outputs": [],
   "source": [
    "Find_Optimal_Cutoff(y_test, y_pred_prob)"
   ]
  },
  {
   "cell_type": "code",
   "execution_count": null,
   "metadata": {
    "collapsed": true
   },
   "outputs": [],
   "source": []
  }
 ],
 "metadata": {
  "kernelspec": {
   "display_name": "Python 3",
   "language": "python",
   "name": "python3"
  },
  "language_info": {
   "codemirror_mode": {
    "name": "ipython",
    "version": 3
   },
   "file_extension": ".py",
   "mimetype": "text/x-python",
   "name": "python",
   "nbconvert_exporter": "python",
   "pygments_lexer": "ipython3",
   "version": "3.6.2"
  }
 },
 "nbformat": 4,
 "nbformat_minor": 2
}
