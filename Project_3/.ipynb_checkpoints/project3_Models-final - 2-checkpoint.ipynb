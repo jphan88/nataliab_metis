{
 "cells": [
  {
   "cell_type": "code",
   "execution_count": 1,
   "metadata": {
    "collapsed": true
   },
   "outputs": [],
   "source": [
    "from sqlalchemy import create_engine\n",
    "import pandas as pd\n",
    "import numpy as np\n",
    "import seaborn as sns\n",
    "import matplotlib.pyplot as plt\n",
    "import csv\n",
    "from sklearn import preprocessing\n",
    "from sklearn.model_selection import train_test_split\n",
    "from sklearn.model_selection import GridSearchCV\n",
    "import tabpy_client\n",
    "\n",
    "#classifiers\n",
    "from sklearn.linear_model import LogisticRegression\n",
    "from sklearn.linear_model import LogisticRegressionCV\n",
    "from sklearn.neighbors import KNeighborsClassifier\n",
    "from sklearn.tree import DecisionTreeClassifier\n",
    "from sklearn.ensemble import RandomForestClassifier\n",
    "from sklearn.svm import SVC\n",
    "from sklearn.naive_bayes import GaussianNB\n",
    "from sklearn.ensemble import GradientBoostingClassifier\n",
    "from xgboost import XGBClassifier\n",
    "\n",
    "#metrics\n",
    "from sklearn import metrics\n",
    "from sklearn.metrics import roc_curve\n",
    "from sklearn.metrics import classification_report\n",
    "from sklearn.metrics import confusion_matrix\n",
    "from sklearn.metrics import roc_auc_score\n",
    "from sklearn.metrics import precision_score\n",
    "from sklearn.metrics import accuracy_score\n",
    "from sklearn.metrics import f1_score\n",
    "from sklearn.metrics import recall_score\n",
    "from sklearn.metrics import auc\n",
    "\n",
    "\n",
    "%matplotlib inline"
   ]
  },
  {
   "cell_type": "code",
   "execution_count": 2,
   "metadata": {},
   "outputs": [
    {
     "data": {
      "text/html": [
       "<div>\n",
       "<style>\n",
       "    .dataframe thead tr:only-child th {\n",
       "        text-align: right;\n",
       "    }\n",
       "\n",
       "    .dataframe thead th {\n",
       "        text-align: left;\n",
       "    }\n",
       "\n",
       "    .dataframe tbody tr th {\n",
       "        vertical-align: top;\n",
       "    }\n",
       "</style>\n",
       "<table border=\"1\" class=\"dataframe\">\n",
       "  <thead>\n",
       "    <tr style=\"text-align: right;\">\n",
       "      <th></th>\n",
       "      <th>g1</th>\n",
       "      <th>g2</th>\n",
       "      <th>g3</th>\n",
       "      <th>school_MS</th>\n",
       "      <th>sex_M</th>\n",
       "      <th>address_U</th>\n",
       "      <th>famsize_LE3</th>\n",
       "      <th>pstatus_T</th>\n",
       "      <th>schoolsup_yes</th>\n",
       "      <th>famsup_yes</th>\n",
       "      <th>...</th>\n",
       "      <th>mjob_teacher</th>\n",
       "      <th>fjob_health</th>\n",
       "      <th>fjob_other</th>\n",
       "      <th>fjob_services</th>\n",
       "      <th>fjob_teacher</th>\n",
       "      <th>reason_home</th>\n",
       "      <th>reason_other</th>\n",
       "      <th>reason_reputation</th>\n",
       "      <th>guardian_mother</th>\n",
       "      <th>guardian_other</th>\n",
       "    </tr>\n",
       "  </thead>\n",
       "  <tbody>\n",
       "    <tr>\n",
       "      <th>0</th>\n",
       "      <td>1</td>\n",
       "      <td>0</td>\n",
       "      <td>0</td>\n",
       "      <td>0</td>\n",
       "      <td>0</td>\n",
       "      <td>1</td>\n",
       "      <td>0</td>\n",
       "      <td>0</td>\n",
       "      <td>1</td>\n",
       "      <td>0</td>\n",
       "      <td>...</td>\n",
       "      <td>0</td>\n",
       "      <td>0</td>\n",
       "      <td>0</td>\n",
       "      <td>0</td>\n",
       "      <td>1</td>\n",
       "      <td>0</td>\n",
       "      <td>0</td>\n",
       "      <td>0</td>\n",
       "      <td>1</td>\n",
       "      <td>0</td>\n",
       "    </tr>\n",
       "    <tr>\n",
       "      <th>1</th>\n",
       "      <td>1</td>\n",
       "      <td>0</td>\n",
       "      <td>0</td>\n",
       "      <td>0</td>\n",
       "      <td>0</td>\n",
       "      <td>1</td>\n",
       "      <td>0</td>\n",
       "      <td>1</td>\n",
       "      <td>0</td>\n",
       "      <td>1</td>\n",
       "      <td>...</td>\n",
       "      <td>0</td>\n",
       "      <td>0</td>\n",
       "      <td>1</td>\n",
       "      <td>0</td>\n",
       "      <td>0</td>\n",
       "      <td>0</td>\n",
       "      <td>0</td>\n",
       "      <td>0</td>\n",
       "      <td>0</td>\n",
       "      <td>0</td>\n",
       "    </tr>\n",
       "    <tr>\n",
       "      <th>2</th>\n",
       "      <td>0</td>\n",
       "      <td>0</td>\n",
       "      <td>0</td>\n",
       "      <td>0</td>\n",
       "      <td>0</td>\n",
       "      <td>1</td>\n",
       "      <td>1</td>\n",
       "      <td>1</td>\n",
       "      <td>1</td>\n",
       "      <td>0</td>\n",
       "      <td>...</td>\n",
       "      <td>0</td>\n",
       "      <td>0</td>\n",
       "      <td>1</td>\n",
       "      <td>0</td>\n",
       "      <td>0</td>\n",
       "      <td>0</td>\n",
       "      <td>1</td>\n",
       "      <td>0</td>\n",
       "      <td>1</td>\n",
       "      <td>0</td>\n",
       "    </tr>\n",
       "    <tr>\n",
       "      <th>3</th>\n",
       "      <td>0</td>\n",
       "      <td>0</td>\n",
       "      <td>0</td>\n",
       "      <td>0</td>\n",
       "      <td>0</td>\n",
       "      <td>1</td>\n",
       "      <td>0</td>\n",
       "      <td>1</td>\n",
       "      <td>0</td>\n",
       "      <td>1</td>\n",
       "      <td>...</td>\n",
       "      <td>0</td>\n",
       "      <td>0</td>\n",
       "      <td>0</td>\n",
       "      <td>1</td>\n",
       "      <td>0</td>\n",
       "      <td>1</td>\n",
       "      <td>0</td>\n",
       "      <td>0</td>\n",
       "      <td>1</td>\n",
       "      <td>0</td>\n",
       "    </tr>\n",
       "    <tr>\n",
       "      <th>4</th>\n",
       "      <td>0</td>\n",
       "      <td>0</td>\n",
       "      <td>0</td>\n",
       "      <td>0</td>\n",
       "      <td>0</td>\n",
       "      <td>1</td>\n",
       "      <td>0</td>\n",
       "      <td>1</td>\n",
       "      <td>0</td>\n",
       "      <td>1</td>\n",
       "      <td>...</td>\n",
       "      <td>0</td>\n",
       "      <td>0</td>\n",
       "      <td>1</td>\n",
       "      <td>0</td>\n",
       "      <td>0</td>\n",
       "      <td>1</td>\n",
       "      <td>0</td>\n",
       "      <td>0</td>\n",
       "      <td>0</td>\n",
       "      <td>0</td>\n",
       "    </tr>\n",
       "  </tbody>\n",
       "</table>\n",
       "<p>5 rows × 42 columns</p>\n",
       "</div>"
      ],
      "text/plain": [
       "   g1  g2  g3  school_MS  sex_M  address_U  famsize_LE3  pstatus_T  \\\n",
       "0   1   0   0          0      0          1            0          0   \n",
       "1   1   0   0          0      0          1            0          1   \n",
       "2   0   0   0          0      0          1            1          1   \n",
       "3   0   0   0          0      0          1            0          1   \n",
       "4   0   0   0          0      0          1            0          1   \n",
       "\n",
       "   schoolsup_yes  famsup_yes       ...        mjob_teacher  fjob_health  \\\n",
       "0              1           0       ...                   0            0   \n",
       "1              0           1       ...                   0            0   \n",
       "2              1           0       ...                   0            0   \n",
       "3              0           1       ...                   0            0   \n",
       "4              0           1       ...                   0            0   \n",
       "\n",
       "   fjob_other  fjob_services  fjob_teacher  reason_home  reason_other  \\\n",
       "0           0              0             1            0             0   \n",
       "1           1              0             0            0             0   \n",
       "2           1              0             0            0             1   \n",
       "3           0              1             0            1             0   \n",
       "4           1              0             0            1             0   \n",
       "\n",
       "   reason_reputation  guardian_mother  guardian_other  \n",
       "0                  0                1               0  \n",
       "1                  0                0               0  \n",
       "2                  0                1               0  \n",
       "3                  0                1               0  \n",
       "4                  0                0               0  \n",
       "\n",
       "[5 rows x 42 columns]"
      ]
     },
     "execution_count": 2,
     "metadata": {},
     "output_type": "execute_result"
    }
   ],
   "source": [
    "df = pd.read_csv('df_students.csv')\n",
    "df.head()"
   ]
  },
  {
   "cell_type": "code",
   "execution_count": 3,
   "metadata": {},
   "outputs": [
    {
     "data": {
      "text/plain": [
       "Index(['g1', 'g2', 'g3', 'school_MS', 'sex_M', 'address_U', 'famsize_LE3',\n",
       "       'pstatus_T', 'schoolsup_yes', 'famsup_yes', 'paid_yes',\n",
       "       'activities_yes', 'nursery_yes', 'higher_yes', 'internet_yes',\n",
       "       'romantic_yes', 'age', 'medu', 'fedu', 'traveltime', 'studytime',\n",
       "       'famrel', 'freetime', 'goout', 'dalc', 'walc', 'health', 'absences',\n",
       "       'failures', 'mjob_health', 'mjob_other', 'mjob_services',\n",
       "       'mjob_teacher', 'fjob_health', 'fjob_other', 'fjob_services',\n",
       "       'fjob_teacher', 'reason_home', 'reason_other', 'reason_reputation',\n",
       "       'guardian_mother', 'guardian_other'],\n",
       "      dtype='object')"
      ]
     },
     "execution_count": 3,
     "metadata": {},
     "output_type": "execute_result"
    }
   ],
   "source": [
    "df.columns"
   ]
  },
  {
   "cell_type": "markdown",
   "metadata": {},
   "source": [
    "## Train Test Split"
   ]
  },
  {
   "cell_type": "code",
   "execution_count": 6,
   "metadata": {},
   "outputs": [],
   "source": [
    "X = df.drop(['g1','g2','g3'], axis = 1)\n",
    "y = df['g1']"
   ]
  },
  {
   "cell_type": "code",
   "execution_count": 7,
   "metadata": {},
   "outputs": [],
   "source": [
    "X_train, X_test, y_train, y_test = train_test_split(X, y, test_size=0.33, random_state=42)"
   ]
  },
  {
   "cell_type": "markdown",
   "metadata": {},
   "source": [
    "#### with normalization"
   ]
  },
  {
   "cell_type": "code",
   "execution_count": 8,
   "metadata": {
    "collapsed": true
   },
   "outputs": [],
   "source": [
    "normalizer = preprocessing.Normalizer()\n",
    "X_norm = normalizer.fit_transform(X)"
   ]
  },
  {
   "cell_type": "code",
   "execution_count": 9,
   "metadata": {
    "collapsed": true
   },
   "outputs": [],
   "source": [
    "X_train_norm, X_test_norm, y_train, y_test = train_test_split(X_norm, y, test_size=0.33, random_state=42)"
   ]
  },
  {
   "cell_type": "code",
   "execution_count": 14,
   "metadata": {
    "collapsed": true
   },
   "outputs": [],
   "source": [
    "import itertools\n",
    "\n",
    "def plot_confusion_matrix(cm, classes,\n",
    "                          normalize=False,\n",
    "                          title='Confusion matrix',\n",
    "                          cmap=plt.cm.Blues):\n",
    "    \"\"\"\n",
    "    This function prints and plots the confusion matrix.\n",
    "    Normalization can be applied by setting `normalize=True`.\n",
    "    \"\"\"\n",
    "    #if normalize:\n",
    "    #    cm = cm.astype('float') / cm.sum(axis=1)[:, np.newaxis]\n",
    "    #    print(\"Normalized confusion matrix\")\n",
    "    #else:\n",
    "    #    print('Confusion matrix, without normalization')\n",
    "\n",
    "    #print(cm)\n",
    "\n",
    "    plt.imshow(cm, interpolation='nearest', cmap=cmap)\n",
    "    plt.title(title)\n",
    "    plt.colorbar()\n",
    "    tick_marks = np.arange(len(classes))\n",
    "    plt.xticks(tick_marks, classes, rotation=45)\n",
    "    plt.yticks(tick_marks, classes)\n",
    "\n",
    "    fmt = '.2f' if normalize else 'd'\n",
    "    thresh = cm.max() / 2.\n",
    "    for i, j in itertools.product(range(cm.shape[0]), range(cm.shape[1])):\n",
    "        plt.text(j, i, format(cm[i, j], fmt),\n",
    "                 horizontalalignment=\"center\",\n",
    "                 color=\"white\" if cm[i, j] > thresh else \"black\")\n",
    "\n",
    "    plt.tight_layout()\n",
    "    plt.ylabel('True label')\n",
    "    plt.xlabel('Predicted label')"
   ]
  },
  {
   "cell_type": "markdown",
   "metadata": {
    "collapsed": true
   },
   "source": [
    "## Logistic Regression with Regularization"
   ]
  },
  {
   "cell_type": "code",
   "execution_count": 15,
   "metadata": {
    "collapsed": true
   },
   "outputs": [],
   "source": [
    "Cs = np.logspace(-4., 4., 30)\n",
    "logCV = LogisticRegressionCV(cv=10, Cs = Cs)"
   ]
  },
  {
   "cell_type": "code",
   "execution_count": 16,
   "metadata": {},
   "outputs": [
    {
     "data": {
      "text/plain": [
       "LogisticRegressionCV(Cs=array([1.00000e-04, 1.88739e-04, 3.56225e-04, 6.72336e-04, 1.26896e-03,\n",
       "       2.39503e-03, 4.52035e-03, 8.53168e-03, 1.61026e-02, 3.03920e-02,\n",
       "       5.73615e-02, 1.08264e-01, 2.04336e-01, 3.85662e-01, 7.27895e-01,\n",
       "       1.37382e+00, 2.59294e+00, 4.89390e+00, 9.23671e+00, 1.74333e+01,\n",
       "       3.29034e+01, 6.21017e+01, 1.17210e+02, 2.21222e+02, 4.17532e+02,\n",
       "       7.88046e+02, 1.48735e+03, 2.80722e+03, 5.29832e+03, 1.00000e+04]),\n",
       "           class_weight=None, cv=10, dual=False, fit_intercept=True,\n",
       "           intercept_scaling=1.0, max_iter=100, multi_class='ovr',\n",
       "           n_jobs=1, penalty='l2', random_state=None, refit=True,\n",
       "           scoring=None, solver='lbfgs', tol=0.0001, verbose=0)"
      ]
     },
     "execution_count": 16,
     "metadata": {},
     "output_type": "execute_result"
    }
   ],
   "source": [
    "logCV.fit(X_train,y_train)"
   ]
  },
  {
   "cell_type": "code",
   "execution_count": 17,
   "metadata": {},
   "outputs": [
    {
     "data": {
      "text/plain": [
       "array([9.23670857])"
      ]
     },
     "execution_count": 17,
     "metadata": {},
     "output_type": "execute_result"
    }
   ],
   "source": [
    "y_pred_logCV = logCV.predict(X_test)\n",
    "\n",
    "#best score\n",
    "logCV.C_"
   ]
  },
  {
   "cell_type": "code",
   "execution_count": 18,
   "metadata": {},
   "outputs": [
    {
     "data": {
      "image/png": "[encoded data removed]",
      "text/plain": [
       "<matplotlib.figure.Figure at 0x104aaf048>"
      ]
     },
     "metadata": {},
     "output_type": "display_data"
    }
   ],
   "source": [
    "plot_confusion_matrix(confusion_matrix(y_test,y_pred_logCV), ['pass', 'fail'])"
   ]
  },
  {
   "cell_type": "markdown",
   "metadata": {},
   "source": [
    "## Random Forest GridsearchCV"
   ]
  },
  {
   "cell_type": "code",
   "execution_count": 19,
   "metadata": {},
   "outputs": [
    {
     "name": "stdout",
     "output_type": "stream",
     "text": [
      "{'max_depth': 10, 'n_estimators': 27}\n"
     ]
    }
   ],
   "source": [
    "rfc = RandomForestClassifier() \n",
    " \n",
    "# Use a grid over parameters of interest\n",
    "param_grid = { \n",
    "           \"n_estimators\" : [9, 18, 27, 36, 45, 54, 63, 100, 150],\n",
    "           \"max_depth\" : [1, 5, 10, 15, 20, 25, 30],}\n",
    " \n",
    "CV_rfc = GridSearchCV(estimator=rfc, param_grid=param_grid, cv= 10)\n",
    "CV_rfc.fit(X_train, y_train)\n",
    "print (CV_rfc.best_params_)"
   ]
  },
  {
   "cell_type": "markdown",
   "metadata": {},
   "source": [
    "best parameters = 'max_depth': 15, 'n_estimators': 18"
   ]
  },
  {
   "cell_type": "markdown",
   "metadata": {},
   "source": [
    "## Gradient Boosting"
   ]
  },
  {
   "cell_type": "code",
   "execution_count": 20,
   "metadata": {
    "collapsed": true
   },
   "outputs": [],
   "source": [
    "gb = GradientBoostingClassifier(random_state=1,n_estimators =100)"
   ]
  },
  {
   "cell_type": "code",
   "execution_count": null,
   "metadata": {
    "collapsed": true
   },
   "outputs": [],
   "source": [
    "param_grid = {'max_depth': range(5,15), 'min_samples_split': range(5,10,1), 'learning_rate': [ 0.01, 0.1, 0.2, 0.3]}\n",
    " \n",
    "grid = GridSearchCV(gb, param_grid, cv=10,scoring= 'roc_auc')\n",
    "grid.fit(X_train,y_train)"
   ]
  },
  {
   "cell_type": "code",
   "execution_count": null,
   "metadata": {
    "collapsed": true
   },
   "outputs": [],
   "source": [
    "print (grid.best_params_)"
   ]
  },
  {
   "cell_type": "markdown",
   "metadata": {},
   "source": [
    "best parameters = 'learning_rate': 0.01, 'max_depth': 5, 'min_samples_split': 9"
   ]
  },
  {
   "cell_type": "code",
   "execution_count": null,
   "metadata": {
    "collapsed": true
   },
   "outputs": [],
   "source": [
    "gb_grid = GradientBoostingClassifier(learning_rate = 0.01, max_depth = 5, min_samples_split = 9)\n",
    "gb_grid.fit(X_train, y_train)"
   ]
  },
  {
   "cell_type": "markdown",
   "metadata": {},
   "source": [
    "## Naive Bayes"
   ]
  },
  {
   "cell_type": "code",
   "execution_count": null,
   "metadata": {
    "collapsed": true
   },
   "outputs": [],
   "source": [
    "gnb = GaussianNB()\n",
    "gnb.fit(X_train, y_train)\n",
    "y_pred_gnb = gnb.predict(X_test)"
   ]
  },
  {
   "cell_type": "code",
   "execution_count": null,
   "metadata": {},
   "outputs": [],
   "source": [
    "plot_confusion_matrix(confusion_matrix(y_test,y_pred_gnb), ['pass', 'fail'])"
   ]
  },
  {
   "cell_type": "markdown",
   "metadata": {},
   "source": [
    "## Models Comparison"
   ]
  },
  {
   "cell_type": "code",
   "execution_count": 63,
   "metadata": {
    "collapsed": true
   },
   "outputs": [],
   "source": [
    "Cs = np.logspace(-4., 4., 30)\n",
    "models = [LogisticRegressionCV(cv=10, Cs = Cs),\n",
    "          GaussianNB(),\n",
    "          RandomForestClassifier(max_depth=15, n_estimators=18),\n",
    "          GradientBoostingClassifier(learning_rate = 0.01, max_depth = 5, min_samples_split = 9)]\n",
    "\n",
    "model_names = ['Logistic', 'Naive Bayes','Random Forest','Gradient Boosting']"
   ]
  },
  {
   "cell_type": "code",
   "execution_count": 64,
   "metadata": {},
   "outputs": [
    {
     "name": "stdout",
     "output_type": "stream",
     "text": [
      "[[152  14]\n",
      " [ 28  21]]\n",
      "[[149  17]\n",
      " [ 23  26]]\n",
      "[[155  11]\n",
      " [ 26  23]]\n",
      "[[152  14]\n",
      " [ 29  20]]\n"
     ]
    },
    {
     "data": {
      "text/html": [
       "<div>\n",
       "<style>\n",
       "    .dataframe thead tr:only-child th {\n",
       "        text-align: right;\n",
       "    }\n",
       "\n",
       "    .dataframe thead th {\n",
       "        text-align: left;\n",
       "    }\n",
       "\n",
       "    .dataframe tbody tr th {\n",
       "        vertical-align: top;\n",
       "    }\n",
       "</style>\n",
       "<table border=\"1\" class=\"dataframe\">\n",
       "  <thead>\n",
       "    <tr style=\"text-align: right;\">\n",
       "      <th></th>\n",
       "      <th>accuracy</th>\n",
       "      <th>auc</th>\n",
       "      <th>f1-fail</th>\n",
       "      <th>f1-pass</th>\n",
       "      <th>precision-fail</th>\n",
       "      <th>precision-pass</th>\n",
       "      <th>recall-fail</th>\n",
       "      <th>recall-pass</th>\n",
       "    </tr>\n",
       "  </thead>\n",
       "  <tbody>\n",
       "    <tr>\n",
       "      <th>Logistic</th>\n",
       "      <td>0.804651</td>\n",
       "      <td>0.809811</td>\n",
       "      <td>0.500000</td>\n",
       "      <td>0.878613</td>\n",
       "      <td>0.600000</td>\n",
       "      <td>0.844444</td>\n",
       "      <td>0.428571</td>\n",
       "      <td>0.915663</td>\n",
       "    </tr>\n",
       "    <tr>\n",
       "      <th>Naive Bayes</th>\n",
       "      <td>0.813953</td>\n",
       "      <td>0.807475</td>\n",
       "      <td>0.565217</td>\n",
       "      <td>0.881657</td>\n",
       "      <td>0.604651</td>\n",
       "      <td>0.866279</td>\n",
       "      <td>0.530612</td>\n",
       "      <td>0.897590</td>\n",
       "    </tr>\n",
       "    <tr>\n",
       "      <th>Random Forest</th>\n",
       "      <td>0.818605</td>\n",
       "      <td>0.799852</td>\n",
       "      <td>0.554217</td>\n",
       "      <td>0.893372</td>\n",
       "      <td>0.676471</td>\n",
       "      <td>0.856354</td>\n",
       "      <td>0.469388</td>\n",
       "      <td>0.933735</td>\n",
       "    </tr>\n",
       "    <tr>\n",
       "      <th>Gradient Boosting</th>\n",
       "      <td>0.800000</td>\n",
       "      <td>0.810487</td>\n",
       "      <td>0.481928</td>\n",
       "      <td>0.876081</td>\n",
       "      <td>0.588235</td>\n",
       "      <td>0.839779</td>\n",
       "      <td>0.408163</td>\n",
       "      <td>0.915663</td>\n",
       "    </tr>\n",
       "  </tbody>\n",
       "</table>\n",
       "</div>"
      ],
      "text/plain": [
       "                   accuracy       auc   f1-fail   f1-pass  precision-fail  \\\n",
       "Logistic           0.804651  0.809811  0.500000  0.878613        0.600000   \n",
       "Naive Bayes        0.813953  0.807475  0.565217  0.881657        0.604651   \n",
       "Random Forest      0.818605  0.799852  0.554217  0.893372        0.676471   \n",
       "Gradient Boosting  0.800000  0.810487  0.481928  0.876081        0.588235   \n",
       "\n",
       "                   precision-pass  recall-fail  recall-pass  \n",
       "Logistic                 0.844444     0.428571     0.915663  \n",
       "Naive Bayes              0.866279     0.530612     0.897590  \n",
       "Random Forest            0.856354     0.469388     0.933735  \n",
       "Gradient Boosting        0.839779     0.408163     0.915663  "
      ]
     },
     "execution_count": 64,
     "metadata": {},
     "output_type": "execute_result"
    }
   ],
   "source": [
    "accuracy = []\n",
    "cutoff_accuracy = []\n",
    "precision_pass = []\n",
    "precision_fail = []\n",
    "recall_pass = []\n",
    "recall_fail = []\n",
    "f1_pass = []\n",
    "f1_fail = []\n",
    "auc = []\n",
    "threshold = 0.5\n",
    "\n",
    "## Go through the models and find the scores\n",
    "for model in models:\n",
    "    model.fit(X_train, y_train)\n",
    "    y_pred = model.predict(X_test)\n",
    "    y_pred_prob = model.predict_proba(X_test)[:,1]\n",
    "    \n",
    "    #predict with custom threshold\n",
    "    y_pred_cutoff = np.where(y_pred_prob >= threshold, 1, 0)\n",
    "    \n",
    "    cutoff_accuracy.append( accuracy_score(y_test, y_pred_cutoff) )\n",
    "    accuracy.append( accuracy_score(y_test, y_pred) )\n",
    "    \n",
    "    precision_pass.append( precision_score(y_test, y_pred_cutoff, pos_label=0) )\n",
    "    precision_fail.append( precision_score(y_test, y_pred_cutoff, pos_label=1) )\n",
    "    recall_pass.append( recall_score(y_test, y_pred_cutoff, pos_label=0))\n",
    "    recall_fail.append( recall_score(y_test, y_pred_cutoff, pos_label=1))\n",
    "    f1_pass.append( f1_score(y_test, y_pred_cutoff, pos_label=0) )\n",
    "    f1_fail.append( f1_score(y_test, y_pred_cutoff, pos_label=1) )\n",
    "    auc.append(roc_auc_score(y_test, y_pred_prob))\n",
    "    print (confusion_matrix(y_test,y_pred_cutoff))\n",
    "\n",
    "accuracy_df = pd.DataFrame({'accuracy':accuracy, 'auc':auc, 'precision-pass':precision_pass, 'precision-fail':precision_fail,\n",
    "                            'recall-pass':recall_pass, 'recall-fail':recall_fail, 'f1-pass':f1_pass, 'f1-fail':f1_fail})\n",
    "accuracy_df.set_index([model_names])"
   ]
  },
  {
   "cell_type": "code",
   "execution_count": 97,
   "metadata": {},
   "outputs": [
    {
     "name": "stdout",
     "output_type": "stream",
     "text": [
      "[[145  21]\n",
      " [ 22  27]]\n",
      "[[145  21]\n",
      " [ 19  30]]\n",
      "[[139  27]\n",
      " [ 15  34]]\n",
      "[[145  21]\n",
      " [ 21  28]]\n"
     ]
    },
    {
     "data": {
      "text/html": [
       "<div>\n",
       "<style>\n",
       "    .dataframe thead tr:only-child th {\n",
       "        text-align: right;\n",
       "    }\n",
       "\n",
       "    .dataframe thead th {\n",
       "        text-align: left;\n",
       "    }\n",
       "\n",
       "    .dataframe tbody tr th {\n",
       "        vertical-align: top;\n",
       "    }\n",
       "</style>\n",
       "<table border=\"1\" class=\"dataframe\">\n",
       "  <thead>\n",
       "    <tr style=\"text-align: right;\">\n",
       "      <th></th>\n",
       "      <th>accuracy</th>\n",
       "      <th>auc</th>\n",
       "      <th>f1-fail</th>\n",
       "      <th>f1-pass</th>\n",
       "      <th>precision-fail</th>\n",
       "      <th>precision-pass</th>\n",
       "      <th>recall-fail</th>\n",
       "      <th>recall-pass</th>\n",
       "    </tr>\n",
       "  </thead>\n",
       "  <tbody>\n",
       "    <tr>\n",
       "      <th>Logistic</th>\n",
       "      <td>0.800000</td>\n",
       "      <td>0.809811</td>\n",
       "      <td>0.556701</td>\n",
       "      <td>0.870871</td>\n",
       "      <td>0.562500</td>\n",
       "      <td>0.868263</td>\n",
       "      <td>0.551020</td>\n",
       "      <td>0.873494</td>\n",
       "    </tr>\n",
       "    <tr>\n",
       "      <th>Naive Bayes</th>\n",
       "      <td>0.813953</td>\n",
       "      <td>0.807475</td>\n",
       "      <td>0.600000</td>\n",
       "      <td>0.878788</td>\n",
       "      <td>0.588235</td>\n",
       "      <td>0.884146</td>\n",
       "      <td>0.612245</td>\n",
       "      <td>0.873494</td>\n",
       "    </tr>\n",
       "    <tr>\n",
       "      <th>Random Forest</th>\n",
       "      <td>0.804651</td>\n",
       "      <td>0.838640</td>\n",
       "      <td>0.618182</td>\n",
       "      <td>0.868750</td>\n",
       "      <td>0.557377</td>\n",
       "      <td>0.902597</td>\n",
       "      <td>0.693878</td>\n",
       "      <td>0.837349</td>\n",
       "    </tr>\n",
       "    <tr>\n",
       "      <th>Gradient Boosting</th>\n",
       "      <td>0.804651</td>\n",
       "      <td>0.810487</td>\n",
       "      <td>0.571429</td>\n",
       "      <td>0.873494</td>\n",
       "      <td>0.571429</td>\n",
       "      <td>0.873494</td>\n",
       "      <td>0.571429</td>\n",
       "      <td>0.873494</td>\n",
       "    </tr>\n",
       "  </tbody>\n",
       "</table>\n",
       "</div>"
      ],
      "text/plain": [
       "                   accuracy       auc   f1-fail   f1-pass  precision-fail  \\\n",
       "Logistic           0.800000  0.809811  0.556701  0.870871        0.562500   \n",
       "Naive Bayes        0.813953  0.807475  0.600000  0.878788        0.588235   \n",
       "Random Forest      0.804651  0.838640  0.618182  0.868750        0.557377   \n",
       "Gradient Boosting  0.804651  0.810487  0.571429  0.873494        0.571429   \n",
       "\n",
       "                   precision-pass  recall-fail  recall-pass  \n",
       "Logistic                 0.868263     0.551020     0.873494  \n",
       "Naive Bayes              0.884146     0.612245     0.873494  \n",
       "Random Forest            0.902597     0.693878     0.837349  \n",
       "Gradient Boosting        0.873494     0.571429     0.873494  "
      ]
     },
     "execution_count": 97,
     "metadata": {},
     "output_type": "execute_result"
    }
   ],
   "source": [
    "accuracy = []\n",
    "cutoff_accuracy = []\n",
    "precision_pass = []\n",
    "precision_fail = []\n",
    "recall_pass = []\n",
    "recall_fail = []\n",
    "f1_pass = []\n",
    "f1_fail = []\n",
    "auc = []\n",
    "threshold = 0.3\n",
    "\n",
    "## Go through the models and find the scores\n",
    "for model in models:\n",
    "    model.fit(X_train, y_train)\n",
    "    y_pred = model.predict(X_test)\n",
    "    y_pred_prob = model.predict_proba(X_test)[:,1]\n",
    "    \n",
    "    #predict with custom threshold\n",
    "    y_pred_cutoff = np.where(y_pred_prob >= threshold, 1, 0)\n",
    "    \n",
    "    cutoff_accuracy.append( accuracy_score(y_test, y_pred_cutoff) )\n",
    "    accuracy.append( accuracy_score(y_test, y_pred_cutoff) )\n",
    "    \n",
    "    precision_pass.append( precision_score(y_test, y_pred_cutoff, pos_label=0) )\n",
    "    precision_fail.append( precision_score(y_test, y_pred_cutoff, pos_label=1) )\n",
    "    recall_pass.append( recall_score(y_test, y_pred_cutoff, pos_label=0))\n",
    "    recall_fail.append( recall_score(y_test, y_pred_cutoff, pos_label=1))\n",
    "    f1_pass.append( f1_score(y_test, y_pred_cutoff, pos_label=0) )\n",
    "    f1_fail.append( f1_score(y_test, y_pred_cutoff, pos_label=1) )\n",
    "    auc.append(roc_auc_score(y_test, y_pred_prob))\n",
    "    print (confusion_matrix(y_test,y_pred_cutoff))\n",
    "\n",
    "accuracy_df = pd.DataFrame({'accuracy':accuracy, 'auc':auc, 'precision-pass':precision_pass, 'precision-fail':precision_fail,\n",
    "                            'recall-pass':recall_pass, 'recall-fail':recall_fail, 'f1-pass':f1_pass, 'f1-fail':f1_fail})\n",
    "accuracy_df.set_index([model_names])"
   ]
  },
  {
   "cell_type": "markdown",
   "metadata": {},
   "source": [
    "### ROC Curve"
   ]
  },
  {
   "cell_type": "code",
   "execution_count": 67,
   "metadata": {
    "collapsed": true
   },
   "outputs": [],
   "source": [
    "## Calc and store each ROC and AUC\n",
    "fpr_list = []\n",
    "tpr_list = []\n",
    "auc_list = []\n",
    "for model in models:\n",
    "    y_pred_prob = model.predict_proba(X_test)[:,1]\n",
    "    fpr, tpr, _ = roc_curve(y_test, y_pred_prob)\n",
    "    fpr_list.append(fpr)\n",
    "    tpr_list.append(tpr)\n",
    "    auc_list.append(round(metrics.auc(fpr, tpr),4))"
   ]
  },
  {
   "cell_type": "code",
   "execution_count": 68,
   "metadata": {},
   "outputs": [
    {
     "data": {
      "text/plain": [
       "<matplotlib.legend.Legend at 0x1c157259b0>"
      ]
     },
     "execution_count": 68,
     "metadata": {},
     "output_type": "execute_result"
    },
    {
     "data": {
      "image/png": "[encoded data removed]",
      "text/plain": [
       "<matplotlib.figure.Figure at 0x1c1da05860>"
      ]
     },
     "metadata": {},
     "output_type": "display_data"
    }
   ],
   "source": [
    "## Plot them all on 1 graph\n",
    "plt.figure(figsize=(16,10))\n",
    "plt.xlim([0, 1])\n",
    "plt.ylim([0, 1])\n",
    "plt.title('ROC curve for Students Performance Classifiers')\n",
    "plt.xlabel('False Positive Rate (FPR)')\n",
    "plt.ylabel('True Positive Rate (TPR)')\n",
    "for i in range(len(fpr_list)):\n",
    "    plt.plot(fpr_list[i], tpr_list[i], label = model_names[i] + ' - AUC: ' + str(auc_list[i]))\n",
    "plt.legend(loc = 4, fontsize = 15)"
   ]
  },
  {
   "cell_type": "code",
   "execution_count": null,
   "metadata": {
    "collapsed": true
   },
   "outputs": [],
   "source": []
  }
 ],
 "metadata": {
  "kernelspec": {
   "display_name": "Python 3",
   "language": "python",
   "name": "python3"
  },
  "language_info": {
   "codemirror_mode": {
    "name": "ipython",
    "version": 3
   },
   "file_extension": ".py",
   "mimetype": "text/x-python",
   "name": "python",
   "nbconvert_exporter": "python",
   "pygments_lexer": "ipython3",
   "version": "3.6.2"
  }
 },
 "nbformat": 4,
 "nbformat_minor": 2
}
