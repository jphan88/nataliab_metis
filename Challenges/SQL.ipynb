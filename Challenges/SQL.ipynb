{
 "cells": [
  {
   "cell_type": "markdown",
   "metadata": {},
   "source": [
    "## SQL Lab"
   ]
  },
  {
   "cell_type": "markdown",
   "metadata": {},
   "source": [
    "\n",
    "\n",
    "Structured Query Language (SQL) is a very useful declarative language for working with data. It is usually supported (with some variation) by relational databases. The tutorialspoint SQL Quick Guide is a handy cheat sheet for a lot of the syntax. As a data user, access to data will usually consist of a more or less complicated SELECT statement.\n",
    "\n",
    "For joining data with SQL, this Visual Explanation of SQL Joins is quite good. One thing to note is that \"join\" will also often be known as \"merge\" in statistical software.\n",
    "\n",
    "This lab uses the SQL playground provided in-browser by W3Schools. Click W3Schools SQL playground to go straight to the playground.\n",
    "\n",
    "This is a pre-populated data environment with nothing to install and no risk of breaking anything. The data there is from a commonly-used example database (info). Nice!"
   ]
  },
  {
   "cell_type": "markdown",
   "metadata": {},
   "source": [
    "### Question 1\n",
    "#### Which customers are from the UK?"
   ]
  },
  {
   "cell_type": "code",
   "execution_count": null,
   "metadata": {},
   "outputs": [],
   "source": [
    "SELECT\n",
    "    * \n",
    "FROM\n",
    "    Customers\n",
    "WHERE\n",
    "    Country ='UK';\n",
    "    "
   ]
  },
  {
   "cell_type": "markdown",
   "metadata": {},
   "source": [
    "### Question 2\n",
    "#### What is the name of the customer who has the most orders?"
   ]
  },
  {
   "cell_type": "code",
   "execution_count": null,
   "metadata": {
    "collapsed": true
   },
   "outputs": [],
   "source": [
    "SELECT \n",
    "\tCustomerName,\n",
    "    COUNT(*) AS OrderIDCount\n",
    "FROM\n",
    "    Customers\n",
    "JOIN\n",
    "    Orders\n",
    "ON\n",
    "    Customers.CustomerID = Orders.CustomerID\n",
    "GROUP BY\n",
    "    CustomerName\n",
    "ORDER BY \n",
    "    OrderIDCount DESC limit(1);\n",
    "    "
   ]
  },
  {
   "cell_type": "markdown",
   "metadata": {},
   "source": [
    "### Question 3\n",
    "#### Which supplier has the highest average product price?"
   ]
  },
  {
   "cell_type": "code",
   "execution_count": null,
   "metadata": {
    "collapsed": true
   },
   "outputs": [],
   "source": [
    "SELECT \n",
    "\tSupplierName,\n",
    "    AVG(Price) AS PriceAVG\n",
    "FROM\n",
    "    Suppliers\n",
    "JOIN\n",
    "    Products\n",
    "ON\n",
    "    Suppliers.SupplierID = Products.SupplierID\n",
    "GROUP BY\n",
    "    SupplierName\n",
    "ORDER BY \n",
    "    PriceAVG DESC limit(1);\n",
    "    "
   ]
  },
  {
   "cell_type": "markdown",
   "metadata": {},
   "source": [
    "### Question 4\n",
    "#### How many different countries are all the customers from? (Hint: consider DISTINCT.)"
   ]
  },
  {
   "cell_type": "code",
   "execution_count": null,
   "metadata": {
    "collapsed": true
   },
   "outputs": [],
   "source": [
    "SELECT Count(*) AS DistinctCountries\n",
    "FROM (SELECT DISTINCT Country FROM Customers);\n"
   ]
  },
  {
   "cell_type": "markdown",
   "metadata": {},
   "source": [
    "### Question 5\n",
    "#### What category appears in the most orders?"
   ]
  },
  {
   "cell_type": "code",
   "execution_count": null,
   "metadata": {
    "collapsed": true
   },
   "outputs": [],
   "source": [
    "FROM Categories\n",
    "JOIN Products\n",
    "ON Categories.CategoryID = Products.CategoryID\n",
    "JOIN OrderDetails\n",
    "ON OrderDetails.ProductID = Products.ProductID\n",
    "GROUP BY CategoryName\n",
    "ORDER BY Count DESC limit(1);"
   ]
  },
  {
   "cell_type": "markdown",
   "metadata": {},
   "source": [
    "### Question 6\n",
    "#### What was the total cost for each order?"
   ]
  },
  {
   "cell_type": "code",
   "execution_count": null,
   "metadata": {
    "collapsed": true
   },
   "outputs": [],
   "source": [
    "SELECT OrderID,Quantity * Price as TotalPrice\n",
    "FROM OrderDetails\n",
    "JOIN Products\n",
    "ON OrderDetails.ProductID = Products.ProductID\n",
    "GROUP BY OrderID\n",
    "ORDER BY TotalPrice DESC limit(1);"
   ]
  },
  {
   "cell_type": "markdown",
   "metadata": {},
   "source": [
    "### Question 7\n",
    "#### Which employee made the most sales (by total cost)?"
   ]
  },
  {
   "cell_type": "code",
   "execution_count": null,
   "metadata": {
    "collapsed": true
   },
   "outputs": [],
   "source": [
    "SELECT FirstName, LastName, SUM( Quantity * Price) as TotalPrice\n",
    "FROM OrderDetails\n",
    "JOIN Products\n",
    "ON OrderDetails.ProductID = Products.ProductID\n",
    "JOIN Orders\n",
    "ON Orders.OrderID = OrderDetails.OrderID\n",
    "JOIN Employees\n",
    "ON Employees.EmployeeID = Orders.EmployeeID\n",
    "GROUP BY Employees.EmployeeID\n",
    "ORDER BY TotalPrice DESC;"
   ]
  },
  {
   "cell_type": "markdown",
   "metadata": {},
   "source": [
    "### Question 8\n",
    "#### Which employees have BS degrees? (Hint: look at the LIKE operator.)"
   ]
  },
  {
   "cell_type": "code",
   "execution_count": null,
   "metadata": {
    "collapsed": true
   },
   "outputs": [],
   "source": [
    "SELECT FirstName, LastName  FROM Employees\n",
    "WHERE Notes LIKE '%BS%';"
   ]
  },
  {
   "cell_type": "markdown",
   "metadata": {},
   "source": [
    "### Question 9\n",
    "#### Which supplier of three or more products has the highest average product price? (Hint: look at the HAVING operator.)"
   ]
  },
  {
   "cell_type": "code",
   "execution_count": null,
   "metadata": {
    "collapsed": true
   },
   "outputs": [],
   "source": [
    "SELECT SupplierName, AVG(price) as AVGPrice\n",
    "FROM [Products]\n",
    "JOIN Suppliers\n",
    "ON Suppliers.SupplierID = Products.SupplierID\n",
    "GROUP BY Products.SupplierID\n",
    "HAVING COUNT(*) > 2\n",
    "ORDER BY AVGPrice DESC;"
   ]
  }
 ],
 "metadata": {
  "kernelspec": {
   "display_name": "Python 3",
   "language": "python",
   "name": "python3"
  },
  "language_info": {
   "codemirror_mode": {
    "name": "ipython",
    "version": 3
   },
   "file_extension": ".py",
   "mimetype": "text/x-python",
   "name": "python",
   "nbconvert_exporter": "python",
   "pygments_lexer": "ipython3",
   "version": "3.6.2"
  }
 },
 "nbformat": 4,
 "nbformat_minor": 2
}
