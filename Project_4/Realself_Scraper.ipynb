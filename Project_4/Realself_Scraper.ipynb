{
 "cells": [
  {
   "cell_type": "code",
   "execution_count": 24,
   "metadata": {
    "collapsed": true
   },
   "outputs": [],
   "source": [
    "from bs4 import BeautifulSoup\n",
    "from IPython.display import clear_output\n",
    "import sys\n",
    "import pandas as pd\n",
    "import requests\n",
    "import re\n",
    "import json"
   ]
  },
  {
   "cell_type": "markdown",
   "metadata": {},
   "source": [
    "## Project Fletcher"
   ]
  },
  {
   "cell_type": "markdown",
   "metadata": {},
   "source": [
    "#### Scrape the reviews in Realself.com"
   ]
  },
  {
   "cell_type": "code",
   "execution_count": 26,
   "metadata": {
    "collapsed": true
   },
   "outputs": [],
   "source": [
    "url = 'https://www.realself.com/review/perth-au-coolsculpting-25-kids-wanted-pooch?offset=10&sle=0'\n",
    "#response = requests.get(url)\n",
    "debug = {'verbose': sys.stderr}\n",
    "user_agent = {'User-agent': 'Mozilla/5.0'}\n",
    "response  = requests.get(url, headers = user_agent)\n",
    "page = response.text\n",
    "soup = BeautifulSoup(page,'html.parser')"
   ]
  },
  {
   "cell_type": "code",
   "execution_count": 361,
   "metadata": {
    "collapsed": true
   },
   "outputs": [],
   "source": [
    "def get_post_on_page(page):\n",
    "    post = soup.find('div',{'id':\"review-entries\"})\n",
    "    postinfo = soup.find('div',{'id':\"review-view\"})\n",
    "    \n",
    "    try:\n",
    "        headlines = [headlines.get_text() for headlines in post.findAll(class_ = 'Content-title Headline Headline--legacy Headline--legacy3 Headline--5')]\n",
    "    except:\n",
    "        headlines = \"0\"\n",
    "    \n",
    "    # date e daysafter estao errados. estao retornando os valores do primeiro post ao inves de uma lista, uma para cada post\n",
    "    try:\n",
    "        date = postinfo.find(class_=\"List Content-byline Byline Byline--bulleted\").findAll('li', class_='Byline-item').get_text().replace(\"  \",\"\").strip(\"\\n\")\n",
    "    except:\n",
    "        date = \"0\"\n",
    "    try:\n",
    "        daysafter = postinfo.find(class_=\"List Content-byline Byline Byline--bulleted\").findAll('li', class_='Byline-item')[1].get_text().replace(\"  \",\"\").strip(\"\\n\")\n",
    "    except:\n",
    "        daysafter = \"0\"\n",
    "    \n",
    "    \n",
    "    try:\n",
    "        posts = [texts.get_text().replace(\"\\n\",\"\") for texts in post.findAll(class_ = 'Content-bodyText BodyText BodyText--large user-generated-content text-truncator-mobile')]\n",
    "    except:\n",
    "        posts = \"0\"\n",
    "        \n",
    "    print(\"headlines: {} date: {} days after: {} posts: {}\").format(headlines, date, daysafter, posts)\n",
    "    "
   ]
  },
  {
   "cell_type": "code",
   "execution_count": 362,
   "metadata": {
    "collapsed": true
   },
   "outputs": [],
   "source": [
    "def get_review_on_page(page):\n",
    "    url = 'https://www.realself.com/review/perth-au-coolsculpting-25-kids-wanted-pooch?offset=10&sle=0'\n",
    "    #response = requests.get(url)\n",
    "    debug = {'verbose': sys.stderr}\n",
    "    user_agent = {'User-agent': 'Mozilla/5.0'}\n",
    "    response  = requests.get(url, headers = user_agent)\n",
    "    page = response.text\n",
    "    soup = BeautifulSoup(page,'html.parser')\n",
    "    \n",
    "    review = soup.find('div',{'id':\"review-view\"})\n",
    "    \n",
    "    try:\n",
    "        title = review.find(class_=\"Content-title Headline Headline--legacy Headline--legacy1 Headline--2\").get_text().replace(\"  \",\"\").strip(\"\\n\")\n",
    "    except:\n",
    "        title = \"0\"\n",
    "    try:\n",
    "        user = review.find(class_=\"u-marginMedium\").find('a',{'class':\"Link Link--legacySecondary Link--primary\"}).get_text()\n",
    "    except:\n",
    "        user = \"0\"\n",
    "    try:\n",
    "        worth = review.find(class_=\"u-marginMedium\").findAll(class_=\"Byline-item\")[1].get_text().replace(\"  \",\"\").replace(\"\\n\",\"\")\n",
    "    except:\n",
    "        worth = \"0\"\n",
    "    try:\n",
    "        price = review.find(class_=\"u-marginMedium\").findAll(class_=\"Byline-item\")[2].get_text().replace(\"  \",\"\").replace(\"\\n\",\"\").replace(\",\",\"\")[1:]\n",
    "    except:\n",
    "        price = \"0\"\n",
    "    print(\"title: {} \\n username: {} \\n worth: {} \\n price: {}\".format(title,user,worth,price))\n",
    "    \n",
    "    get_post_on_page(page)\n",
    "    \n",
    "    \n"
   ]
  },
  {
   "cell_type": "code",
   "execution_count": 363,
   "metadata": {},
   "outputs": [
    {
     "name": "stdout",
     "output_type": "stream",
     "text": [
      "title: 25 No Kids - Want That Little Pooch Gone! 5'3 62kg \n",
      " username: jaymeea \n",
      " worth: Worth It \n",
      " price: 2400\n",
      "['I went to absolute cosmetics in Nedlands and had...', 'Day 4', 'Officially 1 Week Down!', 'Almost 2 Weeks', '3 Weeks', 'Half Way']\n",
      "date: 0\n",
      "day: Day of treatment\n",
      "['I went to absolute cosmetics in Nedlands and had my session with Abi who was amazing and so caring throughout the whole experience. I had 4 applicators, 2 lower abdomen and 2 flanks. All in all no pain! The suction did not hurt one bit. The cooling sensation just felt like an ice pack that was really cold and had that burning sensation on your skin, but after about 10 mins I went numb and couldn\\'t feel a thing, was honestly a walk in the park.Taking the applicator off was fine , but the massage was slightly uncomfortable as I had expected from reading other reviews. I was quite ticklish in some areas and other areas were tender and I felt a little bit light headed, but it was a very short massage and is an important part of the process and has to be done. I would say the only \"pain\" I felt was after the massage when all the blood was rushing back to the surface it was a very intense ache, I would just hold the towel against the area until it subsided which was about 5 minutes. Abi did give me a panadeine after my first one, but it goes away, just have to stick it out for a few minutes.It is my first night, it is very swollen and quite tender to touch and bend down. I couldn\\'t have my seatbelt touching it in the car on the way home, or my shorts resting on my lower abdom. I haven\\'t had any more pain killers, just chilling on the couch and that\\'s it, very cruisy! I have put high-waisted gym tights on for a bit of compression to help with the swelling which is also comforting.Will update with my progress, but so far so good :) (because I have only just had the procedure, I\\'m still not sure about the results and will update the \"was it worth it\" status when I start to see some progress).', \"So far so good, still quite swollen and tender. My lower belly is sore to bend down and touch, and sore when it jiggles. I've been wearing my Spanx all day which has really been helping. I have kind of been able to work out. Day 2 I tried a small arm workout literally about 10 mins because I didn't want to move my belly around too much so did some exercises at home. Day 3 I also tried to take the dog for a walk but it was jiggling around to much and was quite sore, I think my pants were pressing on it to much as well. So again walked for about 15 mins. See what today is like, from what I've read day 4-7 is the worst because the nerves should start waking up now. I've just put up a comparison photo of before and day 4 - just swollen and some bruising on my flanks. I barely have any tenderness in my flanks, everything is in my lower belly. \", \"Everything is back to normal, swelling has gone down, bruises have faded, no longer tender or sore to bend over. The hardness has gone in my lower and it's back to it's soft jiggly self, and I can wear pants that sit comfortably on the area. Before it was pretty sore to have anything touching it, and also no longer wearing spanx :). The last few days around the 4th and 5th day the nerve endings were waking up but I didn't experience any pain, more like tingling or pins and needles as others described. I wold just rub the area with my hand or apply a slight bit of pressure and was fine and would last only a couple of seconds and happened a number of times throughout the day, more so on the right side as well I noticed. I'm thinking possibly I experienced less pain because the machines have since been updated, the suction cups are not as deep and only had to have each applicator on for 35 mins as opposed to the old ones which were an hour. But  everyone is different and they're bodies react differently. I also had quite a  few headaches, but not sure if related to coolsculpting. Only a slight bit of itching really at the moment but nothing unbearable. From here on in will just post weekly photo updates. \", \"Just under 2 weeks and starting to see some results XD!  Life happened so haven't been as productive in the gym, looking to get back to toning up a really enhance my results. Otherwise still numb and that's about it. Note - I haven't changed my diet either. I do intermittent fasting, and throughout January also been doing no sugar and alcohol (Australia day did have a couple drinks, and the other day I cracked and almost ate a whole packet of lollies... back on board today) to help clean up my system. All of this could be attributing but I'm still happy with what I see. Scales haven't really changed all that much either :). \", \"Everything is back to normal, maybe only slightly still numb more so where it overlapped right under my belly button. So excited, starting to see some results. Front picture isn't too different from week 2 (except I should have taken the photo in the bathroom with same lighting), but you can see the side picture the bulge is definitely getting flatter XD!\", \"Clean eating and exercise will always enhance the results, I have always been healthy and exercised regularly whether it be through sport or gym. It's okay if you fall off the bandwagon every now and then and enjoy life because we need balance, and junk food tastes so good! However, sometimes there are those stubborn areas that won't move no matter how clean you eat or how many times you exercise, which for me was my lower abdomen and love handles. It may not seem like I had much but it so nice to wear clothes and not instantly critise myself, holding down my fat to see what I'd look like without those buldges hanging over my clothes, or going through my entire wardrobe because I hate everything and then lying on my bed complaining that I have nothing to wear because I just feel so fat in everything. But now I'm starting to feel comfortable and happy thanks to this non-invasive treatment. I can't wait to see what the full 12 weeks will look like! \"]\n"
     ]
    }
   ],
   "source": [
    "get_review_on_page(page)"
   ]
  },
  {
   "cell_type": "code",
   "execution_count": 267,
   "metadata": {
    "collapsed": true
   },
   "outputs": [],
   "source": [
    "#review\n",
    "title = soup.find('div',{'id':\"review-view\"}).find(class_=\"Content-title Headline Headline--legacy Headline--legacy1 Headline--2\").get_text().replace(\"  \",\"\").strip(\"\\n\")\n",
    "user = soup.find('div',{'id':\"review-view\"}).find(class_=\"u-marginMedium\").find('a',{'class':\"Link Link--legacySecondary Link--primary\"}).get_text()\n",
    "worth = soup.find('div',{'id':\"review-view\"}).find(class_=\"u-marginMedium\").findAll(class_=\"Byline-item\")[1].get_text().replace(\"  \",\"\").replace(\"\\n\",\"\")\n",
    "price = soup.find('div',{'id':\"review-view\"}).find(class_=\"u-marginMedium\").findAll(class_=\"Byline-item\")[2].get_text().replace(\"  \",\"\").replace(\"\\n\",\"\").replace(\",\",\"\")[1:]\n",
    "\n",
    "#posts\n",
    "headlines = [headlines.get_text() for headlines in soup.find('div',{'id':\"review-entries\"}).findAll(class_ = 'Content-title Headline Headline--legacy Headline--legacy3 Headline--5')]\n",
    "date = soup.find('div',{'id':\"review-view\"}).find(class_=\"List Content-byline Byline Byline--bulleted\").find('li', class_='Byline-item').get_text().replace(\"  \",\"\").strip(\"\\n\")\n",
    "daysafter = soup.find('div',{'id':\"review-view\"}).find(class_=\"List Content-byline Byline Byline--bulleted\").findAll('li', class_='Byline-item')[1].get_text().replace(\"  \",\"\").strip(\"\\n\")\n",
    "reviews = [texts.get_text().replace(\"\\n\",\"\") for texts in soup.find('div',{'id':\"review-entries\"}).findAll(class_ = 'Content-bodyText BodyText BodyText--large user-generated-content text-truncator-mobile')]"
   ]
  }
 ],
 "metadata": {
  "kernelspec": {
   "display_name": "Python 3",
   "language": "python",
   "name": "python3"
  },
  "language_info": {
   "codemirror_mode": {
    "name": "ipython",
    "version": 3
   },
   "file_extension": ".py",
   "mimetype": "text/x-python",
   "name": "python",
   "nbconvert_exporter": "python",
   "pygments_lexer": "ipython3",
   "version": "3.6.2"
  }
 },
 "nbformat": 4,
 "nbformat_minor": 2
}
