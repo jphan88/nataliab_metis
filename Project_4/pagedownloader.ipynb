{
 "cells": [
  {
   "cell_type": "code",
   "execution_count": 53,
   "metadata": {},
   "outputs": [],
   "source": [
    "from bs4 import BeautifulSoup\n",
    "from IPython.display import clear_output\n",
    "import sys\n",
    "import pandas as pd\n",
    "import requests\n",
    "import re\n",
    "import json\n",
    "import codecs\n",
    "from selenium import webdriver\n",
    "\n",
    "webdriver = webdriver.Chrome('C:/Users/ferna/OneDrive/GatoCaverna/Python/realself/chromedriver.exe')\n",
    "\n",
    "debug = {'verbose': sys.stderr}\n",
    "user_agent = {'User-agent': 'Mozilla/4.1'}\n",
    "\n",
    "def get_page(url):\n",
    "    webdriver.get(url)\n",
    "    html = webdriver.page_source\n",
    "    soup = BeautifulSoup(html, \"lxml\")\n",
    "    return soup\n",
    "\n"
   ]
  },
  {
   "cell_type": "code",
   "execution_count": 54,
   "metadata": {},
   "outputs": [
    {
     "name": "stdout",
     "output_type": "stream",
     "text": [
      "erro:https://www.realself.com/review/livonia-mi-coolsculpting-32-years-kids-145-lbs-paaaaaaaaain-results?offset=721&sle=0\n",
      "\n",
      "erro:https://www.realself.com/review/executive-health-group-coolsculpting-38-year-mom-tighten-tummy?offset=1026&sle=0\n",
      "\n",
      "erro:https://www.realself.com/review/shivananjappa-boston-cool-sculpting-works?offset=1572&sle=0\n",
      "\n",
      "erro:https://www.realself.com/review/restore-vein-skin-centre-coolsculpting-professional-caring-facility-offers-dual?offset=1976&sle=0\n",
      "\n",
      "erro:https://www.realself.com/review/rochester-ny-coolsculpting-life-changing-procedure?offset=1986&sle=0\n",
      "\n",
      "erro:https://www.realself.com/review/bensalem-coolsculpting-twin-mom?offset=2535&sle=0\n",
      "\n",
      "erro:https://www.realself.com/review/fort-lauderdale-fl-coolsculpting-dont-waste-your-money?offset=3217&sle=0\n",
      "\n"
     ]
    }
   ],
   "source": [
    "with open('output.txt', 'r') as f:\n",
    "    for url in f:\n",
    "        page = get_page(url)\n",
    "        if (page.find('div', id='review-view')):\n",
    "            with codecs.open('html/'+get_page_name(url),'w','utf-8') as file:\n",
    "                file.write(page.prettify(formatter=\"html\"))\n",
    "                file.flush()\n",
    "        else:\n",
    "            input('erro:'+url)\n",
    "\n"
   ]
  },
  {
   "cell_type": "code",
   "execution_count": 51,
   "metadata": {},
   "outputs": [
    {
     "data": {
      "text/plain": [
       "'raleigh-nc-coolsculpting-34-year-trouble-areas.html'"
      ]
     },
     "execution_count": 51,
     "metadata": {},
     "output_type": "execute_result"
    }
   ],
   "source": [
    "get_page_name(url)"
   ]
  },
  {
   "cell_type": "code",
   "execution_count": 39,
   "metadata": {},
   "outputs": [],
   "source": [
    "url = 'https://www.realself.com/review/coolsculpting-cool-sculpting-small-pooch-lok?offset=5&sle=0'\n",
    "page = get_page(url)\n",
    "with open('html/'+get_page_name(url),'w') as file:\n",
    "    file.write(page.prettify())\n",
    "    file.flush()\n",
    "    \n"
   ]
  },
  {
   "cell_type": "code",
   "execution_count": 31,
   "metadata": {
    "collapsed": true
   },
   "outputs": [],
   "source": [
    "def get_page_name(url):\n",
    "    url = url.split('/')\n",
    "    url = url[len(url)-1]\n",
    "    url = url.split('?')[0]\n",
    "    return url+'.html'\n"
   ]
  }
 ],
 "metadata": {
  "kernelspec": {
   "display_name": "Python 3",
   "language": "python",
   "name": "python3"
  },
  "language_info": {
   "codemirror_mode": {
    "name": "ipython",
    "version": 3
   },
   "file_extension": ".py",
   "mimetype": "text/x-python",
   "name": "python",
   "nbconvert_exporter": "python",
   "pygments_lexer": "ipython3",
   "version": "3.6.3"
  }
 },
 "nbformat": 4,
 "nbformat_minor": 2
}
